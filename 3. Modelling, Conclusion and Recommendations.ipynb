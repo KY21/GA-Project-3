{
 "cells": [
  {
   "cell_type": "code",
   "execution_count": 61,
   "id": "d7634837",
   "metadata": {},
   "outputs": [],
   "source": [
    "import pandas as pd\n",
    "import numpy as np\n",
    "import matplotlib.pyplot as plt\n",
    "from matplotlib_venn import venn2, venn2_circles\n",
    "import seaborn as sns\n",
    "from nltk.corpus import stopwords\n",
    "from nltk.stem import WordNetLemmatizer\n",
    "from nltk.tokenize import RegexpTokenizer\n",
    "from sklearn.model_selection import train_test_split, GridSearchCV\n",
    "from sklearn.feature_extraction.text import TfidfVectorizer, CountVectorizer\n",
    "from sklearn.feature_selection import chi2\n",
    "from sklearn.pipeline import Pipeline\n",
    "from sklearn.metrics import confusion_matrix, classification_report, plot_roc_curve, roc_auc_score, \\\n",
    "                            accuracy_score, precision_score, recall_score, f1_score\n",
    "from sklearn.linear_model import LogisticRegression\n",
    "from sklearn.ensemble import RandomForestClassifier\n",
    "from sklearn.naive_bayes import MultinomialNB\n",
    "import time\n",
    "import collections\n",
    "from collections import Counter\n",
    "pd.set_option(\"display.max_colwidth\", None)"
   ]
  },
  {
   "cell_type": "code",
   "execution_count": 2,
   "id": "719569be",
   "metadata": {},
   "outputs": [
    {
     "name": "stdout",
     "output_type": "stream",
     "text": [
      "(1681, 19)\n"
     ]
    },
    {
     "data": {
      "text/html": [
       "<div>\n",
       "<style scoped>\n",
       "    .dataframe tbody tr th:only-of-type {\n",
       "        vertical-align: middle;\n",
       "    }\n",
       "\n",
       "    .dataframe tbody tr th {\n",
       "        vertical-align: top;\n",
       "    }\n",
       "\n",
       "    .dataframe thead th {\n",
       "        text-align: right;\n",
       "    }\n",
       "</style>\n",
       "<table border=\"1\" class=\"dataframe\">\n",
       "  <thead>\n",
       "    <tr style=\"text-align: right;\">\n",
       "      <th></th>\n",
       "      <th>subreddit</th>\n",
       "      <th>title</th>\n",
       "      <th>selftext</th>\n",
       "      <th>is_self</th>\n",
       "      <th>num_comments</th>\n",
       "      <th>created_utc</th>\n",
       "      <th>created</th>\n",
       "      <th>removed_by_category</th>\n",
       "      <th>banned_by</th>\n",
       "      <th>author</th>\n",
       "      <th>url</th>\n",
       "      <th>score</th>\n",
       "      <th>upvote_ratio</th>\n",
       "      <th>text</th>\n",
       "      <th>stopwords</th>\n",
       "      <th>punctuation</th>\n",
       "      <th>hastags</th>\n",
       "      <th>numerics</th>\n",
       "      <th>upper</th>\n",
       "    </tr>\n",
       "  </thead>\n",
       "  <tbody>\n",
       "    <tr>\n",
       "      <th>0</th>\n",
       "      <td>Meditation</td>\n",
       "      <td>Massive announcement concerning the future of ...</td>\n",
       "      <td>Now that I have burned all the past karma that...</td>\n",
       "      <td>True</td>\n",
       "      <td>0</td>\n",
       "      <td>1640907530</td>\n",
       "      <td>2021-12-31 07:38:50</td>\n",
       "      <td>NaN</td>\n",
       "      <td>NaN</td>\n",
       "      <td>Extension_Mouse686</td>\n",
       "      <td>https://www.reddit.com/r/Meditation/comments/r...</td>\n",
       "      <td>1</td>\n",
       "      <td>1.0</td>\n",
       "      <td>massive announcement concern future human spec...</td>\n",
       "      <td>415</td>\n",
       "      <td>54</td>\n",
       "      <td>0</td>\n",
       "      <td>4</td>\n",
       "      <td>31</td>\n",
       "    </tr>\n",
       "    <tr>\n",
       "      <th>1</th>\n",
       "      <td>Meditation</td>\n",
       "      <td>Meditation Technique to deal with the first mi...</td>\n",
       "      <td>I have been meditating for 220 consecutive day...</td>\n",
       "      <td>True</td>\n",
       "      <td>0</td>\n",
       "      <td>1640903751</td>\n",
       "      <td>2021-12-31 06:35:51</td>\n",
       "      <td>NaN</td>\n",
       "      <td>NaN</td>\n",
       "      <td>hartmanners</td>\n",
       "      <td>https://www.reddit.com/r/Meditation/comments/r...</td>\n",
       "      <td>1</td>\n",
       "      <td>1.0</td>\n",
       "      <td>technique deal first minute noisy mind 220 con...</td>\n",
       "      <td>155</td>\n",
       "      <td>30</td>\n",
       "      <td>0</td>\n",
       "      <td>2</td>\n",
       "      <td>6</td>\n",
       "    </tr>\n",
       "    <tr>\n",
       "      <th>2</th>\n",
       "      <td>Meditation</td>\n",
       "      <td>What should I focus on if I’m meditating witho...</td>\n",
       "      <td>I’ve tried to make meditation a part of my dai...</td>\n",
       "      <td>True</td>\n",
       "      <td>0</td>\n",
       "      <td>1640898514</td>\n",
       "      <td>2021-12-31 05:08:34</td>\n",
       "      <td>NaN</td>\n",
       "      <td>NaN</td>\n",
       "      <td>v_philosoph</td>\n",
       "      <td>https://www.reddit.com/r/Meditation/comments/r...</td>\n",
       "      <td>1</td>\n",
       "      <td>1.0</td>\n",
       "      <td>focus without video guide try make part daily ...</td>\n",
       "      <td>52</td>\n",
       "      <td>8</td>\n",
       "      <td>0</td>\n",
       "      <td>0</td>\n",
       "      <td>9</td>\n",
       "    </tr>\n",
       "    <tr>\n",
       "      <th>3</th>\n",
       "      <td>Meditation</td>\n",
       "      <td>Racing mind, adhd?</td>\n",
       "      <td>I have periods during the day where my mind is...</td>\n",
       "      <td>True</td>\n",
       "      <td>0</td>\n",
       "      <td>1640896254</td>\n",
       "      <td>2021-12-31 04:30:54</td>\n",
       "      <td>NaN</td>\n",
       "      <td>NaN</td>\n",
       "      <td>chris152772272727829</td>\n",
       "      <td>https://www.reddit.com/r/Meditation/comments/r...</td>\n",
       "      <td>1</td>\n",
       "      <td>1.0</td>\n",
       "      <td>race mind adhd period day mind race thought ad...</td>\n",
       "      <td>18</td>\n",
       "      <td>7</td>\n",
       "      <td>0</td>\n",
       "      <td>0</td>\n",
       "      <td>1</td>\n",
       "    </tr>\n",
       "    <tr>\n",
       "      <th>4</th>\n",
       "      <td>Meditation</td>\n",
       "      <td>Is there such a thing as “spiritual meditation...</td>\n",
       "      <td>I think I’ve been meditating correctly for a w...</td>\n",
       "      <td>True</td>\n",
       "      <td>0</td>\n",
       "      <td>1640895782</td>\n",
       "      <td>2021-12-31 04:23:02</td>\n",
       "      <td>NaN</td>\n",
       "      <td>NaN</td>\n",
       "      <td>OkStep3679</td>\n",
       "      <td>https://www.reddit.com/r/Meditation/comments/r...</td>\n",
       "      <td>1</td>\n",
       "      <td>1.0</td>\n",
       "      <td>thing spiritual v think correctly never consis...</td>\n",
       "      <td>44</td>\n",
       "      <td>6</td>\n",
       "      <td>0</td>\n",
       "      <td>0</td>\n",
       "      <td>4</td>\n",
       "    </tr>\n",
       "  </tbody>\n",
       "</table>\n",
       "</div>"
      ],
      "text/plain": [
       "    subreddit                                              title  \\\n",
       "0  Meditation  Massive announcement concerning the future of ...   \n",
       "1  Meditation  Meditation Technique to deal with the first mi...   \n",
       "2  Meditation  What should I focus on if I’m meditating witho...   \n",
       "3  Meditation                                 Racing mind, adhd?   \n",
       "4  Meditation  Is there such a thing as “spiritual meditation...   \n",
       "\n",
       "                                            selftext  is_self  num_comments  \\\n",
       "0  Now that I have burned all the past karma that...     True             0   \n",
       "1  I have been meditating for 220 consecutive day...     True             0   \n",
       "2  I’ve tried to make meditation a part of my dai...     True             0   \n",
       "3  I have periods during the day where my mind is...     True             0   \n",
       "4  I think I’ve been meditating correctly for a w...     True             0   \n",
       "\n",
       "   created_utc              created  removed_by_category  banned_by  \\\n",
       "0   1640907530  2021-12-31 07:38:50                  NaN        NaN   \n",
       "1   1640903751  2021-12-31 06:35:51                  NaN        NaN   \n",
       "2   1640898514  2021-12-31 05:08:34                  NaN        NaN   \n",
       "3   1640896254  2021-12-31 04:30:54                  NaN        NaN   \n",
       "4   1640895782  2021-12-31 04:23:02                  NaN        NaN   \n",
       "\n",
       "                 author                                                url  \\\n",
       "0    Extension_Mouse686  https://www.reddit.com/r/Meditation/comments/r...   \n",
       "1           hartmanners  https://www.reddit.com/r/Meditation/comments/r...   \n",
       "2           v_philosoph  https://www.reddit.com/r/Meditation/comments/r...   \n",
       "3  chris152772272727829  https://www.reddit.com/r/Meditation/comments/r...   \n",
       "4            OkStep3679  https://www.reddit.com/r/Meditation/comments/r...   \n",
       "\n",
       "   score  upvote_ratio                                               text  \\\n",
       "0      1           1.0  massive announcement concern future human spec...   \n",
       "1      1           1.0  technique deal first minute noisy mind 220 con...   \n",
       "2      1           1.0  focus without video guide try make part daily ...   \n",
       "3      1           1.0  race mind adhd period day mind race thought ad...   \n",
       "4      1           1.0  thing spiritual v think correctly never consis...   \n",
       "\n",
       "   stopwords  punctuation  hastags  numerics  upper  \n",
       "0        415           54        0         4     31  \n",
       "1        155           30        0         2      6  \n",
       "2         52            8        0         0      9  \n",
       "3         18            7        0         0      1  \n",
       "4         44            6        0         0      4  "
      ]
     },
     "execution_count": 2,
     "metadata": {},
     "output_type": "execute_result"
    }
   ],
   "source": [
    "df = pd.read_csv('cleaned_df.csv')\n",
    "print(df.shape)\n",
    "df.head()"
   ]
  },
  {
   "cell_type": "code",
   "execution_count": 3,
   "id": "abf78f9b",
   "metadata": {},
   "outputs": [],
   "source": [
    "# dummifying for yoga\n",
    "df['yoga'] = [1 if value=='yoga' else 0 for value in df['subreddit'].values]"
   ]
  },
  {
   "cell_type": "markdown",
   "id": "5fdc8613",
   "metadata": {},
   "source": [
    "## Train-Test Split"
   ]
  },
  {
   "cell_type": "code",
   "execution_count": 4,
   "id": "dfbedcc4",
   "metadata": {},
   "outputs": [],
   "source": [
    "X = df['text']\n",
    "y = df['yoga']"
   ]
  },
  {
   "cell_type": "code",
   "execution_count": 5,
   "id": "026386bc",
   "metadata": {},
   "outputs": [
    {
     "name": "stdout",
     "output_type": "stream",
     "text": [
      "Train dimensions: ((1176,), (1176,))\n",
      "Test dimensions: ((505,), (505,))\n",
      "0    690\n",
      "1    486\n",
      "Name: yoga, dtype: int64\n",
      "0    296\n",
      "1    209\n",
      "Name: yoga, dtype: int64\n"
     ]
    }
   ],
   "source": [
    "X_train, X_test, y_train, y_test = train_test_split(X, y, test_size=0.3, random_state=42, stratify = df['subreddit'])\n",
    "print(f'Train dimensions: {X_train.shape, y_train.shape}')\n",
    "print(f'Test dimensions: {X_test.shape, y_test.shape}')\n",
    "# Check out target distribution\n",
    "print(y_train.value_counts())\n",
    "print(y_test.value_counts())"
   ]
  },
  {
   "cell_type": "markdown",
   "id": "13058323",
   "metadata": {},
   "source": [
    "Due to imbalanced classes, we need to stratify the data when we split them into training and testing sets."
   ]
  },
  {
   "cell_type": "markdown",
   "id": "a7219b39",
   "metadata": {},
   "source": [
    "## Baseline Model\n",
    "As the original dataset extracted equal number of submissions from each subreddit, the baseline score would be 0.5 (50-50 chance of guessing if a post is from r/yoga or r/Meditation)."
   ]
  },
  {
   "cell_type": "code",
   "execution_count": 6,
   "id": "e17cce6f",
   "metadata": {},
   "outputs": [
    {
     "data": {
      "text/plain": [
       "Meditation    986\n",
       "yoga          695\n",
       "Name: subreddit, dtype: int64"
      ]
     },
     "execution_count": 6,
     "metadata": {},
     "output_type": "execute_result"
    }
   ],
   "source": [
    "df['subreddit'].value_counts()"
   ]
  },
  {
   "cell_type": "code",
   "execution_count": 7,
   "id": "712dde65",
   "metadata": {},
   "outputs": [
    {
     "data": {
      "text/plain": [
       "0.4134443783462225"
      ]
     },
     "execution_count": 7,
     "metadata": {},
     "output_type": "execute_result"
    }
   ],
   "source": [
    "695/1681"
   ]
  },
  {
   "cell_type": "markdown",
   "id": "4cb47c6c",
   "metadata": {},
   "source": [
    "After cleaning, r/yoga submissions consisted of ~40% of the dataset and r/Meditation making up ~60%. Taking the higher percentage of guessing one subreddit (aka r/Meditation) correctly, due to more posts, the baseline score would now be 0.6. Either way, any model that have an accuracy score of more than 0.6 would (and probably should) outperform this baseline score."
   ]
  },
  {
   "cell_type": "markdown",
   "id": "bbd74eb2",
   "metadata": {},
   "source": [
    "## Setting up pipelines and gridsearch parameters"
   ]
  },
  {
   "cell_type": "code",
   "execution_count": 8,
   "id": "f0c33ae2",
   "metadata": {},
   "outputs": [],
   "source": [
    "pipe1 = Pipeline([\n",
    "    ('cvec', CountVectorizer()),\n",
    "    ('lr', LogisticRegression(max_iter=500))\n",
    "])\n",
    "\n",
    "pipe2 = Pipeline([\n",
    "    ('tvec', TfidfVectorizer()),\n",
    "    ('lr', LogisticRegression(max_iter=500))\n",
    "])\n",
    "\n",
    "pipe3 = Pipeline([\n",
    "    ('cvec', CountVectorizer()),\n",
    "    ('nb', MultinomialNB())\n",
    "])\n",
    "\n",
    "pipe4 = Pipeline([\n",
    "    ('tvec', TfidfVectorizer()),\n",
    "    ('nb', MultinomialNB())\n",
    "])\n",
    "\n",
    "pipe5 = Pipeline([\n",
    "    ('cvec', CountVectorizer()),\n",
    "    ('rf', RandomForestClassifier())\n",
    "])\n",
    "\n",
    "pipe6 = Pipeline([\n",
    "    ('tvec', TfidfVectorizer()),\n",
    "    ('rf', RandomForestClassifier())\n",
    "])\n",
    "\n",
    "# Setting params for TFIDF Vectorizer gridsearch\n",
    "tf_params = {\n",
    "    'tvec__max_features':[2_000, 3_000, 4_000, 5_000],\n",
    "    'tvec__min_df': [2, 3, 5, 10],\n",
    "    'tvec__max_df': np.linspace(0.8, 1, 4),\n",
    "    'tvec__ngram_range': [(1, 1), (1, 2)],\n",
    "    'tvec__stop_words': [None, 'english']\n",
    "}\n",
    "\n",
    "# Setting params for CountVectorizer gridsearch\n",
    "cv_params = {\n",
    "    'cvec__max_features': [2_000, 3_000, 4_000, 5_000],\n",
    "    'cvec__min_df': [2, 3, 5, 10],\n",
    "    'cvec__max_df': np.linspace(0.8, 1, 4),\n",
    "    'cvec__ngram_range': [(1,1), (1,2)],\n",
    "    'cvec__stop_words' : [None, 'english']\n",
    "}\n",
    "\n",
    "# Setting up randomforest params\n",
    "rf_params = {\n",
    "    'rf__max_depth': [1000],\n",
    "    'rf__min_samples_split': [100],\n",
    "    'rf__max_leaf_nodes': [None]\n",
    "}"
   ]
  },
  {
   "cell_type": "markdown",
   "id": "d61151ad",
   "metadata": {},
   "source": [
    "### Model 1\n",
    "CountVectorizer + Logistic Regression"
   ]
  },
  {
   "cell_type": "code",
   "execution_count": 9,
   "id": "f18f720d",
   "metadata": {},
   "outputs": [
    {
     "name": "stdout",
     "output_type": "stream",
     "text": [
      "138.81270003318787\n"
     ]
    }
   ],
   "source": [
    "start = time.time()\n",
    "gs1 = GridSearchCV(pipe1, param_grid=cv_params, cv=5, n_jobs=-1)\n",
    "cv_lr = gs1.fit(X_train, y_train)\n",
    "end = time.time()\n",
    "print(end - start)"
   ]
  },
  {
   "cell_type": "code",
   "execution_count": 10,
   "id": "c26b4995",
   "metadata": {},
   "outputs": [
    {
     "name": "stdout",
     "output_type": "stream",
     "text": [
      "best score: 0.8563000360620266\n",
      "best params: {'cvec__max_df': 0.8, 'cvec__max_features': 5000, 'cvec__min_df': 2, 'cvec__ngram_range': (1, 2), 'cvec__stop_words': 'english'}\n",
      "train score: 0.9974489795918368\n",
      "test score: 0.8792079207920792\n"
     ]
    }
   ],
   "source": [
    "print('best score:', cv_lr.best_score_)\n",
    "print('best params:', cv_lr.best_params_)\n",
    "print('train score:', cv_lr.score(X_train, y_train))\n",
    "print('test score:', cv_lr.score(X_test, y_test))"
   ]
  },
  {
   "cell_type": "markdown",
   "id": "cd6da553",
   "metadata": {},
   "source": [
    "### Model 2\n",
    "TF-IDFVectorizer + Logistic Regression"
   ]
  },
  {
   "cell_type": "code",
   "execution_count": 11,
   "id": "a41d4f36",
   "metadata": {},
   "outputs": [
    {
     "name": "stdout",
     "output_type": "stream",
     "text": [
      "136.00186491012573\n"
     ]
    }
   ],
   "source": [
    "start = time.time()\n",
    "gs2 = GridSearchCV(pipe2, param_grid=tf_params, cv=5, n_jobs=-1)\n",
    "tv_lr = gs2.fit(X_train, y_train)\n",
    "end = time.time()\n",
    "print(end - start)"
   ]
  },
  {
   "cell_type": "code",
   "execution_count": 12,
   "id": "b0c2e989",
   "metadata": {},
   "outputs": [
    {
     "name": "stdout",
     "output_type": "stream",
     "text": [
      "best score: 0.8664983772087991\n",
      "best params: {'tvec__max_df': 0.8, 'tvec__max_features': 2000, 'tvec__min_df': 5, 'tvec__ngram_range': (1, 1), 'tvec__stop_words': None}\n",
      "train score: 0.9447278911564626\n",
      "test score: 0.8693069306930693\n"
     ]
    }
   ],
   "source": [
    "print('best score:', tv_lr.best_score_)\n",
    "print('best params:', tv_lr.best_params_)\n",
    "print('train score:', tv_lr.score(X_train, y_train))\n",
    "print('test score:', tv_lr.score(X_test, y_test))"
   ]
  },
  {
   "cell_type": "markdown",
   "id": "3a8139d9",
   "metadata": {},
   "source": [
    "### Model 3\n",
    "CountVectorizer + MultinomialNB Classification"
   ]
  },
  {
   "cell_type": "code",
   "execution_count": 13,
   "id": "9c3f273d",
   "metadata": {},
   "outputs": [
    {
     "name": "stdout",
     "output_type": "stream",
     "text": [
      "106.54118585586548\n"
     ]
    }
   ],
   "source": [
    "start = time.time()\n",
    "gs3 = GridSearchCV(pipe3, param_grid=cv_params, cv=5, n_jobs=-1)\n",
    "cv_nb = gs3.fit(X_train, y_train)\n",
    "end = time.time()\n",
    "print(end - start)"
   ]
  },
  {
   "cell_type": "code",
   "execution_count": 14,
   "id": "68e0324d",
   "metadata": {},
   "outputs": [
    {
     "name": "stdout",
     "output_type": "stream",
     "text": [
      "best score: 0.8613919942300757\n",
      "best params: {'cvec__max_df': 0.8, 'cvec__max_features': 3000, 'cvec__min_df': 2, 'cvec__ngram_range': (1, 1), 'cvec__stop_words': None}\n",
      "train score: 0.9311224489795918\n",
      "test score: 0.8871287128712871\n"
     ]
    }
   ],
   "source": [
    "print('best score:', cv_nb.best_score_)\n",
    "print('best params:', cv_nb.best_params_)\n",
    "print('train score:', cv_nb.score(X_train, y_train))\n",
    "print('test score:', cv_nb.score(X_test, y_test))"
   ]
  },
  {
   "cell_type": "markdown",
   "id": "8e6d623f",
   "metadata": {},
   "source": [
    "cvec__max_df': 0.1"
   ]
  },
  {
   "cell_type": "markdown",
   "id": "168c60db",
   "metadata": {},
   "source": [
    "### Model 4\n",
    "TF-IDFVectorizer + MultinomialNB Classification"
   ]
  },
  {
   "cell_type": "code",
   "execution_count": 15,
   "id": "2e142b74",
   "metadata": {},
   "outputs": [
    {
     "name": "stdout",
     "output_type": "stream",
     "text": [
      "106.76011919975281\n"
     ]
    }
   ],
   "source": [
    "start = time.time()\n",
    "gs4 = GridSearchCV(pipe4, param_grid=tf_params, cv=5, n_jobs=-1)\n",
    "tv_nb = gs4.fit(X_train, y_train)\n",
    "end = time.time()\n",
    "print(end - start)"
   ]
  },
  {
   "cell_type": "code",
   "execution_count": 16,
   "id": "e4d3ff40",
   "metadata": {},
   "outputs": [
    {
     "name": "stdout",
     "output_type": "stream",
     "text": [
      "best score: 0.8749909844933285\n",
      "best params: {'tvec__max_df': 0.8, 'tvec__max_features': 2000, 'tvec__min_df': 5, 'tvec__ngram_range': (1, 1), 'tvec__stop_words': 'english'}\n",
      "train score: 0.9251700680272109\n",
      "test score: 0.8693069306930693\n"
     ]
    }
   ],
   "source": [
    "print('best score:', tv_nb.best_score_)\n",
    "print('best params:', tv_nb.best_params_)\n",
    "print('train score:', tv_nb.score(X_train, y_train))\n",
    "print('test score:', tv_nb.score(X_test, y_test))"
   ]
  },
  {
   "cell_type": "markdown",
   "id": "86d6bc73",
   "metadata": {},
   "source": [
    "### Model 5\n",
    "CountVectorizer + Random Forest"
   ]
  },
  {
   "cell_type": "code",
   "execution_count": 17,
   "id": "8b6934b1",
   "metadata": {},
   "outputs": [
    {
     "name": "stdout",
     "output_type": "stream",
     "text": [
      "262.7599427700043\n"
     ]
    }
   ],
   "source": [
    "start = time.time()\n",
    "gs5 = GridSearchCV(pipe5, param_grid={**cv_params,**rf_params}, cv=5, n_jobs=-1)\n",
    "cv_rf = gs5.fit(X_train, y_train)\n",
    "end = time.time()\n",
    "print(end - start)"
   ]
  },
  {
   "cell_type": "code",
   "execution_count": 18,
   "id": "488325b0",
   "metadata": {},
   "outputs": [
    {
     "name": "stdout",
     "output_type": "stream",
     "text": [
      "best score: 0.8622286332491887\n",
      "best params: {'cvec__max_df': 1.0, 'cvec__max_features': 2000, 'cvec__min_df': 10, 'cvec__ngram_range': (1, 2), 'cvec__stop_words': 'english', 'rf__max_depth': 1000, 'rf__max_leaf_nodes': None, 'rf__min_samples_split': 100}\n",
      "train score: 0.9302721088435374\n",
      "test score: 0.8574257425742574\n"
     ]
    }
   ],
   "source": [
    "print('best score:', cv_rf.best_score_)\n",
    "print('best params:', cv_rf.best_params_)\n",
    "print('train score:', cv_rf.score(X_train, y_train))\n",
    "print('test score:', cv_rf.score(X_test, y_test))"
   ]
  },
  {
   "cell_type": "markdown",
   "id": "93c1ae76",
   "metadata": {},
   "source": [
    "### Model 6\n",
    "TF-IDFVectorizer + Random Forest"
   ]
  },
  {
   "cell_type": "code",
   "execution_count": 19,
   "id": "5fd90d92",
   "metadata": {},
   "outputs": [
    {
     "name": "stdout",
     "output_type": "stream",
     "text": [
      "292.966046333313\n"
     ]
    }
   ],
   "source": [
    "start = time.time()\n",
    "gs6 = GridSearchCV(pipe6, param_grid={**tf_params,**rf_params}, cv=5, n_jobs=-1)\n",
    "tv_rf = gs6.fit(X_train, y_train)\n",
    "end = time.time()\n",
    "print(end - start)"
   ]
  },
  {
   "cell_type": "code",
   "execution_count": 20,
   "id": "e715cb48",
   "metadata": {},
   "outputs": [
    {
     "name": "stdout",
     "output_type": "stream",
     "text": [
      "best score: 0.863079697078976\n",
      "best params: {'rf__max_depth': 1000, 'rf__max_leaf_nodes': None, 'rf__min_samples_split': 100, 'tvec__max_df': 0.8666666666666667, 'tvec__max_features': 4000, 'tvec__min_df': 10, 'tvec__ngram_range': (1, 2), 'tvec__stop_words': 'english'}\n",
      "train score: 0.9600340136054422\n",
      "test score: 0.8554455445544554\n"
     ]
    }
   ],
   "source": [
    "print('best score:', tv_rf.best_score_)\n",
    "print('best params:', tv_rf.best_params_)\n",
    "print('train score:', tv_rf.score(X_train, y_train))\n",
    "print('test score:', tv_rf.score(X_test, y_test))"
   ]
  },
  {
   "cell_type": "markdown",
   "id": "e8bd1362",
   "metadata": {},
   "source": [
    "## Comparing Models"
   ]
  },
  {
   "cell_type": "code",
   "execution_count": 21,
   "id": "f1319617",
   "metadata": {},
   "outputs": [],
   "source": [
    "pred1 = cv_lr.predict(X_test)\n",
    "pred2 = tv_lr.predict(X_test)\n",
    "pred3 = cv_nb.predict(X_test)\n",
    "pred4 = tv_nb.predict(X_test)\n",
    "pred5 = cv_rf.predict(X_test)\n",
    "pred6 = tv_rf.predict(X_test)\n",
    "\n",
    "tn1, fp1, fn1, tp1 = confusion_matrix(y_test, pred1).ravel()\n",
    "tn2, fp2, fn2, tp2 = confusion_matrix(y_test, pred2).ravel()\n",
    "tn3, fp3, fn3, tp3 = confusion_matrix(y_test, pred3).ravel()\n",
    "tn4, fp4, fn4, tp4 = confusion_matrix(y_test, pred4).ravel()\n",
    "tn5, fp5, fn5, tp5 = confusion_matrix(y_test, pred5).ravel()\n",
    "tn6, fp6, fn6, tp6 = confusion_matrix(y_test, pred6).ravel()"
   ]
  },
  {
   "cell_type": "code",
   "execution_count": 41,
   "id": "755552fb",
   "metadata": {},
   "outputs": [
    {
     "data": {
      "text/html": [
       "<div>\n",
       "<style scoped>\n",
       "    .dataframe tbody tr th:only-of-type {\n",
       "        vertical-align: middle;\n",
       "    }\n",
       "\n",
       "    .dataframe tbody tr th {\n",
       "        vertical-align: top;\n",
       "    }\n",
       "\n",
       "    .dataframe thead th {\n",
       "        text-align: right;\n",
       "    }\n",
       "</style>\n",
       "<table border=\"1\" class=\"dataframe\">\n",
       "  <thead>\n",
       "    <tr style=\"text-align: right;\">\n",
       "      <th></th>\n",
       "      <th>Model</th>\n",
       "      <th>accuracy_train</th>\n",
       "      <th>accuracy_test</th>\n",
       "      <th>score_diff</th>\n",
       "      <th>recall</th>\n",
       "      <th>f1</th>\n",
       "      <th>true_neg</th>\n",
       "      <th>false_pos</th>\n",
       "      <th>false_neg</th>\n",
       "      <th>true_pos</th>\n",
       "    </tr>\n",
       "  </thead>\n",
       "  <tbody>\n",
       "    <tr>\n",
       "      <th>model_1</th>\n",
       "      <td>cvec + lr</td>\n",
       "      <td>0.997449</td>\n",
       "      <td>0.879208</td>\n",
       "      <td>0.118241</td>\n",
       "      <td>0.784689</td>\n",
       "      <td>0.843188</td>\n",
       "      <td>280</td>\n",
       "      <td>16</td>\n",
       "      <td>45</td>\n",
       "      <td>164</td>\n",
       "    </tr>\n",
       "    <tr>\n",
       "      <th>model_2</th>\n",
       "      <td>tvec + lr</td>\n",
       "      <td>0.944728</td>\n",
       "      <td>0.869307</td>\n",
       "      <td>0.075421</td>\n",
       "      <td>0.717703</td>\n",
       "      <td>0.819672</td>\n",
       "      <td>289</td>\n",
       "      <td>7</td>\n",
       "      <td>59</td>\n",
       "      <td>150</td>\n",
       "    </tr>\n",
       "    <tr>\n",
       "      <th>model_3</th>\n",
       "      <td>cvec + nb</td>\n",
       "      <td>0.931122</td>\n",
       "      <td>0.887129</td>\n",
       "      <td>0.043994</td>\n",
       "      <td>0.837321</td>\n",
       "      <td>0.859951</td>\n",
       "      <td>273</td>\n",
       "      <td>23</td>\n",
       "      <td>34</td>\n",
       "      <td>175</td>\n",
       "    </tr>\n",
       "    <tr>\n",
       "      <th>model_4</th>\n",
       "      <td>tvec + nb</td>\n",
       "      <td>0.925170</td>\n",
       "      <td>0.869307</td>\n",
       "      <td>0.055863</td>\n",
       "      <td>0.727273</td>\n",
       "      <td>0.821622</td>\n",
       "      <td>287</td>\n",
       "      <td>9</td>\n",
       "      <td>57</td>\n",
       "      <td>152</td>\n",
       "    </tr>\n",
       "    <tr>\n",
       "      <th>model_5</th>\n",
       "      <td>cvec + rf</td>\n",
       "      <td>0.930272</td>\n",
       "      <td>0.857426</td>\n",
       "      <td>0.072846</td>\n",
       "      <td>0.679426</td>\n",
       "      <td>0.797753</td>\n",
       "      <td>291</td>\n",
       "      <td>5</td>\n",
       "      <td>67</td>\n",
       "      <td>142</td>\n",
       "    </tr>\n",
       "    <tr>\n",
       "      <th>model_6</th>\n",
       "      <td>tvec + rf</td>\n",
       "      <td>0.960034</td>\n",
       "      <td>0.855446</td>\n",
       "      <td>0.104588</td>\n",
       "      <td>0.688995</td>\n",
       "      <td>0.797784</td>\n",
       "      <td>288</td>\n",
       "      <td>8</td>\n",
       "      <td>65</td>\n",
       "      <td>144</td>\n",
       "    </tr>\n",
       "  </tbody>\n",
       "</table>\n",
       "</div>"
      ],
      "text/plain": [
       "             Model  accuracy_train  accuracy_test  score_diff    recall  \\\n",
       "model_1  cvec + lr        0.997449       0.879208    0.118241  0.784689   \n",
       "model_2  tvec + lr        0.944728       0.869307    0.075421  0.717703   \n",
       "model_3  cvec + nb        0.931122       0.887129    0.043994  0.837321   \n",
       "model_4  tvec + nb        0.925170       0.869307    0.055863  0.727273   \n",
       "model_5  cvec + rf        0.930272       0.857426    0.072846  0.679426   \n",
       "model_6  tvec + rf        0.960034       0.855446    0.104588  0.688995   \n",
       "\n",
       "               f1  true_neg  false_pos  false_neg  true_pos  \n",
       "model_1  0.843188       280         16         45       164  \n",
       "model_2  0.819672       289          7         59       150  \n",
       "model_3  0.859951       273         23         34       175  \n",
       "model_4  0.821622       287          9         57       152  \n",
       "model_5  0.797753       291          5         67       142  \n",
       "model_6  0.797784       288          8         65       144  "
      ]
     },
     "execution_count": 41,
     "metadata": {},
     "output_type": "execute_result"
    }
   ],
   "source": [
    "results = {'Model': ['cvec + lr', 'tvec + lr', 'cvec + nb', 'tvec + nb', 'cvec + rf', 'tvec + rf'],\n",
    "           'accuracy_train': [cv_lr.score(X_train, y_train), tv_lr.score(X_train, y_train), \n",
    "                              cv_nb.score(X_train, y_train), tv_nb.score(X_train, y_train), \n",
    "                              cv_rf.score(X_train, y_train), tv_rf.score(X_train, y_train)],\n",
    "           'accuracy_test': [cv_lr.score(X_test, y_test), tv_lr.score(X_test, y_test), \n",
    "                              cv_nb.score(X_test, y_test), tv_nb.score(X_test, y_test), \n",
    "                              cv_rf.score(X_test, y_test), tv_rf.score(X_test, y_test)],\n",
    "           'recall': [recall_score(y_test, pred1), recall_score(y_test, pred2), \n",
    "                      recall_score(y_test, pred3), recall_score(y_test, pred4), \n",
    "                      recall_score(y_test, pred5), recall_score(y_test, pred6)],\n",
    "           'f1': [f1_score(y_test, pred1), f1_score(y_test, pred2), \n",
    "                  f1_score(y_test, pred3), f1_score(y_test, pred4),  \n",
    "                  f1_score(y_test, pred5), f1_score(y_test, pred6)],\n",
    "           'true_neg': [tn1, tn2, tn3, tn4, tn5, tn6],\n",
    "           'false_pos': [fp1, fp2, fp3, fp4, fp5, fp6],\n",
    "           'false_neg': [fn1, fn2, fn3, fn4, fn5, fn6],\n",
    "           'true_pos': [tp1, tp2, tp3, tp4, tp5, tp6],  \n",
    "        }\n",
    "\n",
    "results_df = pd.DataFrame(results, index=['model_1','model_2','model_3','model_4','model_5','model_6'])\n",
    "\n",
    "results_df.insert(3,'score_diff',results_df['accuracy_train']-results_df['accuracy_test'])\n",
    "\n",
    "results_df"
   ]
  },
  {
   "cell_type": "markdown",
   "id": "612dc92b",
   "metadata": {},
   "source": [
    "All the test sets have lower accuracy score than the train set. This would mean the model is overfit hence the model could not predict as well for the test set as compared to the train set. The model with the lowest difference in score is **Model 3 - Countvectorizer and Multinomial NB classification**. \n",
    "\n",
    "Our aim is to maximise the true positives. The recall score would tell us the number of true positives over actual positives. Model 3 also has the **highest recall score** and **highest f1 score** (balance with precision (true positive/predicted positive) and recall). We can note that the Type I and Type II errors are more balanced for this model. Hence, model 3 was chosen."
   ]
  },
  {
   "cell_type": "code",
   "execution_count": 44,
   "id": "8521b47e",
   "metadata": {},
   "outputs": [
    {
     "data": {
      "image/png": "[encoded data removed]",
      "text/plain": [
       "<Figure size 864x720 with 1 Axes>"
      ]
     },
     "metadata": {},
     "output_type": "display_data"
    }
   ],
   "source": [
    "sns.set_style(\"white\")\n",
    "fig, ax = plt.subplots(1, 1, figsize=(12,10))\n",
    "plot_roc_curve(cv_lr, X_test, y_test, ax=ax, name='LogisticRegression_CVEC', color='lightpink')\n",
    "plot_roc_curve(tv_lr, X_test, y_test, ax=ax, name='LogisticRegression_TF_IDF', color='orange')\n",
    "plot_roc_curve(cv_nb, X_test, y_test, ax=ax, name='MultinomialNB_CVEC', color='green')\n",
    "plot_roc_curve(tv_nb, X_test, y_test, ax=ax, name='MultinomialNB_TF_IDF', color='lightpink')\n",
    "plot_roc_curve(cv_rf, X_test, y_test, ax=ax, name='RandomForest_CVEC', color='lightgrey')\n",
    "plot_roc_curve(tv_rf, X_test, y_test, ax=ax, name='RandomForest_TF_IDF', color='lightgrey')\n",
    "plt.plot([0, 1], [0, 1], color='black', lw=2, linestyle='--', label='Random Guess')\n",
    "plt.legend();"
   ]
  },
  {
   "cell_type": "markdown",
   "id": "c2047a1e",
   "metadata": {},
   "source": [
    "When AUC = 1, then the classifier is able to perfectly distinguish between all the Positive and the Negative class points correctly. \n",
    "The AUC-ROC curve shows that the logistic regression models and multinomial NB models have high AUC. All 4 models AUC are very close with Model 2 having a slightly higher AUC. Nonetheless, Model 3 is preferred due to the reasons mentioned above."
   ]
  },
  {
   "cell_type": "markdown",
   "id": "2e03d392",
   "metadata": {},
   "source": [
    "# Interpretation of results\n",
    "## Top Predicted Words"
   ]
  },
  {
   "cell_type": "code",
   "execution_count": 24,
   "id": "022de203",
   "metadata": {},
   "outputs": [
    {
     "data": {
      "text/html": [
       "<div>\n",
       "<style scoped>\n",
       "    .dataframe tbody tr th:only-of-type {\n",
       "        vertical-align: middle;\n",
       "    }\n",
       "\n",
       "    .dataframe tbody tr th {\n",
       "        vertical-align: top;\n",
       "    }\n",
       "\n",
       "    .dataframe thead th {\n",
       "        text-align: right;\n",
       "    }\n",
       "</style>\n",
       "<table border=\"1\" class=\"dataframe\">\n",
       "  <thead>\n",
       "    <tr style=\"text-align: right;\">\n",
       "      <th></th>\n",
       "      <th>0</th>\n",
       "      <th>1</th>\n",
       "      <th>2</th>\n",
       "      <th>3</th>\n",
       "      <th>4</th>\n",
       "      <th>5</th>\n",
       "      <th>6</th>\n",
       "      <th>7</th>\n",
       "      <th>8</th>\n",
       "      <th>9</th>\n",
       "      <th>...</th>\n",
       "      <th>2990</th>\n",
       "      <th>2991</th>\n",
       "      <th>2992</th>\n",
       "      <th>2993</th>\n",
       "      <th>2994</th>\n",
       "      <th>2995</th>\n",
       "      <th>2996</th>\n",
       "      <th>2997</th>\n",
       "      <th>2998</th>\n",
       "      <th>2999</th>\n",
       "    </tr>\n",
       "  </thead>\n",
       "  <tbody>\n",
       "    <tr>\n",
       "      <th>word</th>\n",
       "      <td>10</td>\n",
       "      <td>100</td>\n",
       "      <td>1000</td>\n",
       "      <td>1015</td>\n",
       "      <td>1020</td>\n",
       "      <td>10day</td>\n",
       "      <td>10min</td>\n",
       "      <td>11</td>\n",
       "      <td>12</td>\n",
       "      <td>13</td>\n",
       "      <td>...</td>\n",
       "      <td>younger</td>\n",
       "      <td>youtube</td>\n",
       "      <td>youve</td>\n",
       "      <td>yr</td>\n",
       "      <td>yt</td>\n",
       "      <td>ytt</td>\n",
       "      <td>zen</td>\n",
       "      <td>zero</td>\n",
       "      <td>zone</td>\n",
       "      <td>zoom</td>\n",
       "    </tr>\n",
       "    <tr>\n",
       "      <th>yoga_proba</th>\n",
       "      <td>0.000661</td>\n",
       "      <td>0.000331</td>\n",
       "      <td>0.000041</td>\n",
       "      <td>0.000124</td>\n",
       "      <td>0.000041</td>\n",
       "      <td>0.000041</td>\n",
       "      <td>0.000083</td>\n",
       "      <td>0.000083</td>\n",
       "      <td>0.000331</td>\n",
       "      <td>0.000165</td>\n",
       "      <td>...</td>\n",
       "      <td>0.000124</td>\n",
       "      <td>0.001653</td>\n",
       "      <td>0.000207</td>\n",
       "      <td>0.000165</td>\n",
       "      <td>0.000207</td>\n",
       "      <td>0.000372</td>\n",
       "      <td>0.000083</td>\n",
       "      <td>0.000207</td>\n",
       "      <td>0.000083</td>\n",
       "      <td>0.000372</td>\n",
       "    </tr>\n",
       "    <tr>\n",
       "      <th>Meditation_proba</th>\n",
       "      <td>0.000809</td>\n",
       "      <td>0.000303</td>\n",
       "      <td>0.000101</td>\n",
       "      <td>0.000101</td>\n",
       "      <td>0.000076</td>\n",
       "      <td>0.000126</td>\n",
       "      <td>0.000076</td>\n",
       "      <td>0.000051</td>\n",
       "      <td>0.000177</td>\n",
       "      <td>0.000025</td>\n",
       "      <td>...</td>\n",
       "      <td>0.000051</td>\n",
       "      <td>0.000657</td>\n",
       "      <td>0.000227</td>\n",
       "      <td>0.000025</td>\n",
       "      <td>0.000025</td>\n",
       "      <td>0.000025</td>\n",
       "      <td>0.000809</td>\n",
       "      <td>0.000202</td>\n",
       "      <td>0.000253</td>\n",
       "      <td>0.000076</td>\n",
       "    </tr>\n",
       "  </tbody>\n",
       "</table>\n",
       "<p>3 rows × 3000 columns</p>\n",
       "</div>"
      ],
      "text/plain": [
       "                      0         1         2         3         4         5     \\\n",
       "word                    10       100      1000      1015      1020     10day   \n",
       "yoga_proba        0.000661  0.000331  0.000041  0.000124  0.000041  0.000041   \n",
       "Meditation_proba  0.000809  0.000303  0.000101  0.000101  0.000076  0.000126   \n",
       "\n",
       "                      6         7         8         9     ...      2990  \\\n",
       "word                 10min        11        12        13  ...   younger   \n",
       "yoga_proba        0.000083  0.000083  0.000331  0.000165  ...  0.000124   \n",
       "Meditation_proba  0.000076  0.000051  0.000177  0.000025  ...  0.000051   \n",
       "\n",
       "                      2991      2992      2993      2994      2995      2996  \\\n",
       "word               youtube     youve        yr        yt       ytt       zen   \n",
       "yoga_proba        0.001653  0.000207  0.000165  0.000207  0.000372  0.000083   \n",
       "Meditation_proba  0.000657  0.000227  0.000025  0.000025  0.000025  0.000809   \n",
       "\n",
       "                      2997      2998      2999  \n",
       "word                  zero      zone      zoom  \n",
       "yoga_proba        0.000207  0.000083  0.000372  \n",
       "Meditation_proba  0.000202  0.000253  0.000076  \n",
       "\n",
       "[3 rows x 3000 columns]"
      ]
     },
     "execution_count": 24,
     "metadata": {},
     "output_type": "execute_result"
    }
   ],
   "source": [
    "cv_nb_df = pd.DataFrame(cv_nb.best_estimator_.steps[0][1].get_feature_names(), columns = ['word'])\n",
    "cv_nb_df['yoga_proba'] = pd.Series(np.exp(cv_nb.best_estimator_.named_steps.nb.feature_log_prob_[1]))\n",
    "cv_nb_df['Meditation_proba'] = pd.Series(np.exp(cv_nb.best_estimator_.named_steps.nb.feature_log_prob_[0]))\n",
    "cv_nb_df.T"
   ]
  },
  {
   "cell_type": "code",
   "execution_count": 25,
   "id": "229cc1a7",
   "metadata": {},
   "outputs": [],
   "source": [
    "top_yoga = cv_nb_df.sort_values(by='yoga_proba', ascending=False)\n",
    "top_Meditation = cv_nb_df.sort_values(by='Meditation_proba', ascending=False)"
   ]
  },
  {
   "cell_type": "code",
   "execution_count": 55,
   "id": "7f9c5d17",
   "metadata": {},
   "outputs": [
    {
     "data": {
      "image/png": "[encoded data removed]",
      "text/plain": [
       "<Figure size 360x864 with 1 Axes>"
      ]
     },
     "metadata": {},
     "output_type": "display_data"
    }
   ],
   "source": [
    "plt.figure(figsize=(5,12))\n",
    "sns.set(font_scale = 1.2)\n",
    "ax1 = sns.barplot(x=\"yoga_proba\", y=\"word\", data=top_yoga.head(50), palette='flare_r')\n",
    "## Tried to add horizontal bar values but my matplotlib too old\n",
    "# Label with specially formatted floats\n",
    "# ax.bar_label(hbars, fmt='%.2f')\n",
    "# ax.set_xlim(right=15)"
   ]
  },
  {
   "cell_type": "code",
   "execution_count": 27,
   "id": "057f52fb",
   "metadata": {},
   "outputs": [
    {
     "data": {
      "image/png": "[encoded data removed]",
      "text/plain": [
       "<Figure size 360x576 with 1 Axes>"
      ]
     },
     "metadata": {},
     "output_type": "display_data"
    }
   ],
   "source": [
    "plt.figure(figsize=(5,8))\n",
    "sns.set(font_scale = 1.2)\n",
    "ax2 = sns.barplot(x=\"Meditation_proba\", y=\"word\", data=top_Meditation.head(20), palette='crest_r')"
   ]
  },
  {
   "cell_type": "markdown",
   "id": "6089993d",
   "metadata": {},
   "source": [
    "As seen in the previous notebook on EDA, the top ngrams explored then have made their way into the top predictors for each subreddit. Different common predictors could be identified to be aligned to one subreddit over the other. Words like 'practice' had higher probability to be classified under r/yoga while words like 'time' was identified for meditation."
   ]
  },
  {
   "cell_type": "code",
   "execution_count": 63,
   "id": "283c347f",
   "metadata": {},
   "outputs": [
    {
     "data": {
      "text/plain": [
       "988                                                                                                                                                                                                                                                                                                                                                                                                                                                                                                                                                                                                                                                                                                                                                                                                                                                                                                                                                                                                                                                                                                                                                                                                                                                                                                                                                                                                                                                                                                                                                                                                                                                                                                                                                                                                                                                                                                                                                                                                                                                                                                                                                                                                                                                                                                                                                                                                                                                                                                                                                                                                                                                                                                                                                                                                                                                                                                                                                                                                                                                                                                                                                                                                                                                                                                                                                                                                                                                                                                                                                                                                                                                                                                                                                                                                                                                                                                                                                                                                                                                                                                                                                                                                                                                                                                                                                                                                                                                                                                                                                                                                                                                                                                                                                                                                                                                                                                                                  covid hi diagnose covid last week really give real bad kick especially effect practice constantly tire low energy constantly pain struggle breathe anyone recommendation light routine recover focus connect body breathe amaze contact doctor happy long overdo tipsadvicepractices much appreciate thank\n",
       "1001                                                                                                                                                                                                                                                                                                                                                                                                                                                                                                                                                                                                                                                                                                                                                                                                                                                                                                                                                                                                                                                                                                                                                                                                                                                                                                                                                                                                                                                                                                                                                                                                                                                                                                                                                                                                                                                                                                                                                                                                                                                                                                                                                                                                                                                                                                                                                                                                                                                                                                                                                                                                                                                                                                                                                                                                                                                                                                                                                                                                                                                                                                                                                                                                                                                                                                                                                                                                                                                                                                                                                                                                                                                                                                                                                                                                                                                                                                                                                                                                                                                                                                                                                                                                                                                                                                                                                                                                                                                                                                                                                                                                                                                                                                                                                                                                                                                                                                                                                                                                    knee injury knee pain 6 week ago mri figure bone edema swell frontal bone doc say need watch 3 month least conclude allow move around house etc form exercise drive mental pain manageable try pose involve knee feel weirdly limit tip\n",
       "1005                                                                                                                                                                                                                                                                                                                                                                                                                                                                                                                                                                                                                                                                                                                                                                                                                                                                                                                                                                                                                                                                                                                                                                                                                                                                                                                                                                                                                                                                                                                                                                                                                                                                                                                                                                                                                                                                                                                                                                                                                                                                                                                                                                                                                                                                                                                                                                                                                                                                                                                                                                                                                                                                                                                                                                                                                                                                                                                                                                                                                                                                                                                                                                          word warn forward fold mod please feel free remove want share experience warn sub 2 year ago say fail heed warn pay 152 year ago comment pretty innocuous comment praise forward fold say something along line good actually crack back gravity simply hang forward another commenter agree oh yes feel good reach point one commenter say careful thats guarantee way slip disk lower back arent careful slip disc lold confidence uninjured 2829 year old long story short definitely injure back change lot mobility progress make almost go back beginner form pose lot bend knee support block ignore sign injury keep press finally educate anatomy first always tight lower back periodic lower back pain multiple car accident always think bridge backbend pose detrimental sort avoid didnt push hard way saw back arents suppose curve way pressure good spine liberal art degree must know much osteology instead focus forward fold always think good form stretch leg hamstring glut rather stretch back start really flexible way lower lower grind start feel sweet release crack back foward fold gravity become hook feel start feel warm tenderness around lower back think relieve crack fold love feel much frequently fold forward felt relieve tender feel seem increase warmth start pinch eventually turn pain sear hot pinch pain specific location point pain present time really start way day day life continue forward fold felt bring relieve fundamental misunderstand spine work eventually go dr google ton research video original commenter basically hit nail head able home adjustment essentially bend backward arm sofa dangerous cause injury please careful omg sweet relief intense back bend immediate overwhelm back pain go away immediately difference back mobility much twist bend forward backward pretty tight afraid push feel twinge bend pick something grind bend support bend knee add mindful back bend exercise practice help lot anyway thats warn thank let share experience good luck happy new year\n",
       "1006                                                                                                                                                                                                                                                                                                                                                                                                                                                                                                                                                                                                                                                                                                                                                                                                                                                                                                                                                                                                                                                                                                                                                                                                                                                                                                                                                                                                                                                                                                                                                                                                                                                                                                                                                                                                                                                                                                                                                                                                                                                                                                                                                                                                                                                                                                                                                                                                                                                                                                                                                                                                                                                                                                                                                                                                                                                                                                                                                                                                                                                                                                                                                                                                                                                                                                                                                                                                                                                                                                                                                                                                                                                                                                                                                                                                                                                                                                                                                                                                                                                                                                                                                                                                                                                                                                                                                                                                                                                                                                                                                                                                                                                                                                                                                                                 help elbow pain hi year ago adriennes 30 day challenge love end hurt elbow likely make worse fullblown golf elbow right arm isnt go away stop something really enjoy start another month love back worry elbow though go live class help tip isnt option far rural place live want ask hive mind help read make sure distribute weight think really worry make worse know fact downward dog right beginner level really appreciate help give one try thank\n",
       "1032                                                                                                                                                                                                                                                                                                                                                                                                                                                                                                                                                                                                                                                                                                                                                                                                                                                                                                                                                                                                                                                                                                                                                                                                                                                                                                                                                                                                                                                                                                                                                                                                                                                                                                                                                                                                                                                                                                                                                                                                                                                                                                                                                                                                                                                                                                                                                                                                                                                                                                                                                                                                                                                                                                                                                                                                                                                                                                                                                                                                                                                                                                                                                                                                                                                                                                                                                                                                                                                                                                                                                                                                                                                                                                                                                                                                                                                                                                                                                                                                                                                                                                                                                                                                                                                                       simha kriya battle covid19 go official trip march 2021 2nd wave kick 3 day trip id travel train back home start feel slightly feverish symptom 4 day develop cough loss taste amp smell chest pain lot discomfort sure covid symptom mom start develop symptom test positive covid19 blank see death news everywhere pray mom health okay health start bad painful cough breathe issue lung hurt everytime sleep barely eat anything didnt feel hungry basically horrible phase oxygen level slowly start drop 97 90 85 whole family extremely scar helpless everywhere nobody physically help even want phone one day whatsapp forward simha kriya increase lung health didnt think twice grab anything come way cure pain simha kriya breathe technique take couple minute energy rest time go back sleep simha kriya breathe fully reduce cough didnt anymore pain continue practice completely recover glad receive one message maybe right energy guide towards\n",
       "1056                                                                                                                                                                                                                                                                                                                                                                                                                                                                                                                                                                                                                                                                                                                                                                                                                                                                                                                                                                                                                                                                                                                                                                                                                                                                                                                                                                                                                                                                                                                                                                                                                                                                                                                                                                                                                                                                                                                                                                                                                                                                                                                                                                                                                                                                                                                                                                                                                                                                                                                                                                                                                                                                                                                                                                                                                                                                                                                                                                                                                                                                                                                                                                                                                                                                                                                                                                                                                                                                                                                                                                                                                                                                                                                                                                                                                                                                                                                                                                                                                                                                                                                                                                                                                                                                                                                                                                                                                                                                                                                                                                                chronic high proximal hamstring tedinopathy helpadvice hello beautiful human practice consistently year half mainly focus power vinyasa recently incorporate ashtanga deeprestorative bikram suppose push limit time nothing truly hurt prevent practice high hamstringglute pain start subtly slowly 6 month ago leave side think maybe sore need stretch pain spread right side point feel need stop figure heal anyone experience high proximal hamstring tedinopathy currently stop practice exception light stretch amp pm start rehab exercise home long stop practice still practice somehow avoid hamstring load usage advice suggestion appreciate\n",
       "1066                                                                                                                                                                                                                                                                                                                                                                                                                                                                                                                                                                                                                                                                                                                                                                                                                                                                                                                                                                                                                                                                                                                                                                                                                                                                                                                                                                                                                                                                                                                                                                                                                                                                                                                                                                                                                                                                                                                                                                                                                                                                                                                                                                                                                                                                                                                                                                                                                                                                                                                                                                                                                                                                                                                                                                                                                                                                                                                                                                                                                                                                                                                                                                                                                                                                                                                                                                                                                                                                                                                                                                                                                                                                                                                                                                                                                                                                                                                                                                                                                                                                                                                                                                                                                                                                                                                                                                                                                                                                                                                                                                                                                                                                                                                                     help need testimonial change mind body 36m thats recently interest consistently weight train 15 year compete anything stay strong healthy last year half body feel fall apart work job require lot physical labor top try stay consistent lift 5 time week body hurt everyday shoulder impingement constant knee pain foot pain back pain stress body feel ball tangle wire hear lot people talk help stress wonder mobility strenh idea start take class look youtube video anyone give advice please\n",
       "1072                                                                                                                                                                                                                                                                                                                                                                                                                                                                                                                                                                                                                                                                                                                                                                                                                                                                                                                                                                                                                                                                                                                                                                                                                                                                                                                                                                                                                                                                                                                                                                                                                                                                                                                                                                                                                                                                                                                                                                                                                                                                                                                                                                                                                                                                                                                                                                                                                                                                                                                                                                                                                                                                                                                                                                                                                                                                                                                                                                                                                                                                                                                                                                                                                                                                                                                                                                                                                                                                                                                                                                                                                                                                                                                                                                                                                                                                                                                                                                                                                                                                                                                                                                                                                                                                yay first mild injury novice introduce 4 month ago music bud nashville start tag along session love 3 month ago dump gf 8 year lose house help pay general dark place happen immediate plane head home fix thing literally buy pas local studio 6 day week health thing control offer hour mental reprieve nearly every day anyhow studio session fuck gon na double today ex still live together avoid go home turn slow flow actually pretty tough push hard properly eff something shoulder realize literally become addict able last day feel junk make realize completely helpful recovery novice super ob take easy listen body try impress prove anyone include something leg arm numb hot26 walk min feel body push beyond capable experience sharp pain stop folk room many year experience try theyre lastly want say grateful introduce breakup absolutely hell way go practice kinda feel suffer worth find something bring joy healthy way take care body yall\n",
       "1083                                                                                                                                                                                                                                                                                                                                                                                                                                                                                                                                                                                                                                                                                                                                                                                                                                                                                                                                                                                                                                                                                                                                                                                                                                                                                                                                                                                                                                                                                                                                                                                                                                                                                                                                                                                                                                                                                                                                                                                                                                                                                                                                                                                                                                                                                                                                                                                                                                                                                                                                                                                                                                                                                                                                                                                                                                                                                                                                                                                                                                                                                                                                                                                                                                                                                                                                                                                                                                                                                                                                                                                                                                                                                                                                                                                                                                                                                                                                                                                                                                                                                                                                                                                                                                                                                                                                                                                                                                                                                                                                                                                                                                                                                                                                                                                                                                                                 protect hyper mobile back intense pose hyper mobile lower back teacher love notice intense pose involve compress lower back wheel deal back pain right afterwards lie shavasana know due hyper mobility increase risk damage back develop issue disk conscious push much anyone recommendation hyper mobility back prevent future injury counter pose strenhening exercise\n",
       "1084                                                                                                                                                                                                                                                                                                                                                                                                                                                                                                                                                                                                                                                                                                                                                                                                                                                                                                                                                                                                                                                                                                                                                                                                                                                                                                                                                                                                                                                                                                                                                                                                                                                                                                                                                                                                                                                                                                                                                                                                                                                                                                                                                                                                                                                                                                                                                                                                                                                                                                                                                                                                                                                                                                                                                                                                                                                                                                                                                                                                                                                                                                                                                                                                                                                                                                                                                                                                                                                                                                                                                                                                                                                                                                                                                                                                                                                                                                                                                                                                                                                                                                                                                                                                                                                                                                                                                                                                                                                                                                                                                                                                                                                                                                                                                                                                                                                                                                      sciatica absolutely love practice pretty standard adrienne stuff practice year recently start notice sciatic pain major even nonexistent good day seem much worse practice sure something happen make completely correlation hop latter cause miss lot pain pretty serious anybody experience something similar advice pose avoid etc\n",
       "1089                                                                                                                                                                                                                                                                                                                                                                                                                                                                                                                                                                                                                                                                                                                                                                                                                                                                                                                                                                                                                                                                                                                                                                                                                                                                                                                                                                                                                                                                                                                                                                                                                                                                                                                                                                                                                                                                                                                                                                                                                                                                                                                                                                                                                                                                                                                                                                                                                                                                                                                                                                                                                                                                                                                                                                                                                                                                                                                                                                                                                                                                                                                                                                                                                                                                                                                                                                                                                                                                                                                                                                                                                                                                                                                                                                                                                                                                                                                                                                                                                                                                                                                                                                                                                                                                                                                                                                                                                                                                                                                                                                                                                                                                                                                                                                                                                                                                                                                                             paint block hi people girlfriend love amp think try know nothing research cork block people seem prefer material think cool paint pair look seem though treat cork something coverfill pore paint question somehow diminish quality cork make rigid le usable way anybody try paint cork block\n",
       "1100                                                                                                                                                                                                                                                                                                                                                                                                                                                                                                                                                                                                                                                                                                                                                                                                                                                                                                                                                                                                                                                                                                                                                                                                                                                                                                                                                                                                                                                                                                                                                                                                                                                                                                                                                                                                                                                                                                                                                                                                                                                                                                                                                                                                                                                                                                                                                                                                                                                                                                                                                                                                                                                                                                                                                                                                                                                                                                                                                                                                                                                                                                                                                                                                                                                                                                                                                                                                                                                                                                                                                                                                                                                                                                                                                                                                                                                                                                                                                                                                                                                                                                                                                                                                                                                                                                                                                                                                                                                                                                                                                                                                                                                                                                                                                                                                                                                                                                                                                 pose increase hamstring flexibility possible increase hamstring flexibility relatively quickly regular 1530min session serious back injury year ago significant factor reduce daily pain notice hamstring flexibility lag significantly behind flexibility elsewhere suggestion slow grind\n",
       "1103                                                                                                                                                                                                                                                                                                                                                                                                                                                                                                                                                                                                                                                                                                                                                                                                                                                                                                                                                                                                                                                                                                                                                                                                                                                                                                                                                                                                                                                                                                                                                                                                                                                                                                                                                                                                                                                                                                                                                                                                                                                                                                                                                                                                                                                                                                                                                                                                                                                                                                                                                                                                                                                                                                                                                                                                                                                                                                                                                                                                                                                                                                                                                                                                                                                                                                                                                                                                                                                                                                                                                                                                                                                                                                                                                                                                                                                                                                                                                                                                                                                                                                                                                                                                                                                                                                                                                                                                                                                                                                                                                                                                                absolute beginner advice request hey folk hop good people give absolute novice advice 32yo male reasonable shape maybe spare lb nothing majorjust case thats relevant later little knowledge outside see odd clip online suffer bad shoulder pain terrible mobility due rotator cuff injury number year ago go neck cause frequent headache keen begin home try become much flexible try help rid constant discomfort overly spiritual person open mental calmness believe come territory sotldrcan folk recommend specific styleroutine etc direct good program online youtube whatevermuch appreciate hope become regular\n",
       "1119                                                                                                                                                                                                                                                                                                                                                                                                                                                                                                                                                                                                                                                                                                                                                                                                                                                                                                                                                                                                                                                                                                                                                                                                                                                                                                                                                                                                                                                                                                                                                                                                                                                                                                                                                                                                                                                                                                                                                                                                                                                                                                                                                                                                                                                                                                                                                                                                                                                                                                                                                                                                                                                                                                                                                                                                                                                                                                                                                                                                                                                                                                                                                                                                                                                                                                                                                                                                                                                                                                                                                                                                                                                                                                                                                                                                                                                                                                                                                                                                                                                                                                                                                                                                                                                                                                                                                                                                                                                                                                                                                                                                                                                                                                                                                                                                                                                                                                                                                                                                                shoulder neck pain lizard pose still begin journey massively struggle lizard pose shoulder neck point almost immediately start ache use block raise take pressure help small amount wonder anyone advice idea help thank xx\n",
       "1130                                                                                                                                                                                                                                                                                                                                                                                                                                                                                                                                                                                                                                                                                                                                                                                                                                                                                                                                                                                                                                                                                                                                                                                                                                                                                                                                                                                                                                                                                                                                                                                                                                                                                                                                                                                                                                                                                                                                                                                                                                                                                                                                                                                                                                                                                                                                                                                                                                                                                                                                                                                                                                                                                                                                                                                                                                                                                                                                                                                                                                                                                                                                                                                                                                                                                                                                                                                                                                                                                                                                                                                                                                                                                                                                                                                                                                                                                                                                                                                                                                                                                                                                                                                                                                                                                                                                                                                                                                                                                                                                                                                  read faq know style choose hello condense version 47 male 22 year fire service career never plague major injury thankfully chronic damage age force give traditional gym honest never lift weight work complete pt avoid shoulder surgery thankfully work past year find hurt quit work quit bjj surprisingly gain weight stiff pt go say consider see see opportunity increase mobility reduce ache pain restorative workout still want workout question common one form pick studio arent near app best download dog seem fine gentle approach tell form strenh flexibility cardiovascular health yet doable beginner thank advance assistance good day\n",
       "1134                                                                                                                                                                                                                                                                                                                                                                                                                                                                                                                                                                                                                                                                                                                                                                                                                                                                                                                                                                                                                                                                                                                                                                                                                                                                                                                                                                                                                                                                                                                                                                                                                                                                                                                                                                                                                                                                                                                                                                                                                                                                                                                                                                                                                                                                                                                                                                                                                                                                                                                                                                                                                                                                                                                                                                                                                                                                                                                                                                                                                                                                                                                                                                                                                                                                                                                                                                                                                                                                                                                                                                                                                                                                                                                                                                                                                                                                                                                                                                                                                                                                                                                                                                                                                                                                                                                                                                                                                                                                                                                                                                                                                         help become good teacher certify instructor yay description certify journey begin decision become certify yi want learn limitation asana understand role ayurveda incorporate teach life etc etc decision drive successfully lose weight rid postpartum belly anxiety stress initial level depression eliminatingcuring thyroid 75 knee pain issue last least lower back pain persist 2 surgery c section gall bladder stone want give hope people around possible time want take professionally tell people wont respect decide promote free workshop class head doesnt feel confident start think money business\n",
       "1136                                                                                                                                                                                                                                                                                                                                                                                                                                                                                                                                                                                                                                                                                                                                                                                                                                                                                                                                                                                                                                                                                                                                                                                                                                                                                                                                                                                                                                                                                                                                                                                                                                                                                                                                                                                                                                                                                                                                                                                                                                                                                                                                                                                                                                                                                                                                                                                                                                                                                                                                                                                                                                                                                                                                                                                                                                                                                                                                                                                                                                                                                                                                                                                                                                                                                                                                                                                                                                                                                                                                                                                                                                                                                                                                                                                                                                                                                                                                                                                                                                                                                                                                                                                                                                                                                                                                                                                                                                                                                                                                                                                                                                                                                                                                                                                                                                                                                                                                                  deal neck strain hello believe post go rule apologize lately week beginner level program really enjoy far quite lot pain today think due strain neck practice along hold lot tension neck throughout day try find resource deal nothing useful come anyone know prevent resource use help\n",
       "1138                                                                                                                                                                                                                                                                                                                                                                                                                                                                                                                                                                                                                                                                                                                                                                                                                                                                                                                                                                                                                                                                                                                                                                                                                                                                                                                                                                                                                                                                                                                                                                                                                                                                                                                                                                                                                                                                                                                                                                                                                                                                                                                                                                                                                                                                                                                                                                                                                                                                                                                                                                                                                                                                                                                                                                                                                                                                                                                                                                                                                                                                                                                                                                                                                                                                                                                                                                                                                                                                                                                                                                                                                                                                                                                                                                                                                                                                                                                                                                                                                                                                                                                                                                                                                                                                                                                                                                                                                                                                                                                                                                                                                                                                                                                                                                                                        anyone help specific intense last headache specific movement hello time go downward dog child pose extend puppy feel pressure head big deal 30 minute hour later onset really bad pain specific part head right side 2 behind eye basically anything arm outstretched weight saw multiple neurologist scan find anything apart obvious thing hurt thing overlook nonmedical point view try great health every sense word thing hurt\n",
       "1167                                                                                                                                                                                                                                                                                                                                                                                                                                                                                                                                                                                                                                                                                                                                                                                                                                                                                                                                                                                                                                                                                                                                                                                                                                                                                                                                                                                                                                                                                                                                                                                                                                                                                                                                                                                                                                                                                                                                                                                                                                                                                                                                                                                                                                                                                                                                                                                                                                                                                                                                                                                                                                                                                                                                                                                                                                                                                                                                                                                                                                                                                                                                                                                                                                                                                                                                                                                                                                                                                                                                                                                                                                                                                                                                                                                                                                                                                                                                                                                                                                                                                                                                                                                                                                                                                                                                                                                                                                                                                                                                                                                                                                                                                                                   mat period frustration emotional distress wonder mental health help work past trauma recently receive bad news dog health spouse child pet child u family offense anyone completely devastate feel lose find shrivel ball instead stand tall awareness cultivate past year half daily practice fear slip away attempt mat want silence want give mind body space time push push body way become selfdestructive fuel emotional pain form physical pain please share tip know body mind need brain wont let thank advance\n",
       "1173    dispose mat vast majority mat either make polyvinyl chloride pvc thermoplastic elastomer tpe material theoretically recyclable mat manufacture dye flame retardant make difficult recycle plant process sweat session contaminate recyclables come contact mat durable best way rid one donate group need reuse instead throw trash donate mat 1 clean mat thoroughly recycle donate reuse set large sink bathtub squirt 12 tablespoon 1530 ml dish soap directly mat grab sponge cloth turn cold water scrub every section mat thoroughly soap water flip clean side rinse soap let mat air dry must clean mat regardless whether donate recycle reuse mat machinewashable look mat brand online machinewashing mat 2 contact local homeless shelter see use mat look online find contact information homeless shelter area call shelter see use mat homeless shelter often struggle fund easily become overcrowd shelter use mat plush material make makeshift bed event lot people show run regular bed variation may able donate mat substance abuse clinic orphanage group service highneed community homeless shelter area arent take mat give try someone need 3 send mat nonprofit organization use help people look online see nonprofit area use mat youd surprise many volunteer group teach prison inmate child trauma survivor encourage peace positivity many nonprofit use vehicle help people heal grow big nonprofit ship mat activist work social program government agency help atrisk community learn mat world use outreach program promote social justice equality 4 reach pet shelter want help animal need homeless shelter many animal shelter overcrowd underfunded contact shelter area see drop mat animal shelter use mat bed cat dog pet use transport smaller injure animal well larger shelter decent fund humane society tend accept mat donation local shelter though 5 ask local government donation program mat call email government recycle waste management department ask donation program mat large city reuse mat public school public work project city one program follow instruction drop mat donation center find anywhere donate mat ask recycle waste management department recycle odds high wont already phone might well ask even ultimately decide recycle youll least good start point search upcycling mat 1 cut mat create nonslip furniture pad instead pay small felt pad go chair sofa table leg cut piece mat match leg furniture mat wont scratch hardwood grip floor quite well make ideal furniture pad cut mat pizza cutter rotary cutter razor blade utility knife sure clean mat upcycling reuse tip mat design slide around theyre hard surface make mat arguably better pad furniture actual furniture pad prone shift around time 2 set mat trunk keep item slide around empty vehicle trunk set belong aside clean base trunk remove dirt set mat flat trunk put belong back mat keep item slide around whenever drive mat design withstand high temperature several form take place hot environment may experience wear tear time mat generally hold fine summer 3 bring mat go camp put sleep bag mat pliable soft theyre easy roll transport make ideal camp take mat next time spend night outdoors instead put sleep bag directly grind lay mat first put sleep bag top youll much easier time fall asleep soft surface great option back neck pain sleep harder surface 4 use mat mudroom entryway protect floor mat make great platform muddy dirty shoe mat design waterresistant people use end quite sweaty mean theyre perfect protect floor come inside wet dirty shoe set mat front oven sink keep food scrap water kitchen floor 5 trim mat use placemat pet food water bowl cut mat small rectangle use razor blade utility knife pizza cutter set pet food water bowl top mat keep item slide around great way keep excite dog knock food bowl place skittish cat knock water bowl put litter box top mat cut keep kitty kick litter floor recycle mat 1 contact recycle facility area see take mat mat typically pretty hard recycle recycle facility accept mat use cushion recycle pad kind way use rubber tire acrylic sheet recycle facility actually recycle cut melt new material call recycle facility near find center accept mat recycle center hazardous material may take mat well even isnt anything hazardous begin facility often recycle material require individual attention clean mat thoroughly recycle 2 take mat recycle facility pay small fee recycle clean mat thoroughly soap water let air dry roll mat take recycle facility recycle facility charge 110 fee mat prepare pay clerk behind front desk drop mat bring recyclables kind waste show one item 3 future mat company recycle program rid mat really wear buy new mat company recycle program mat manufacturer recycle old mat long buy new mat unfortunately none company accept open donation really option buy new mat two popular company recycle program lovearth manduka need ship mat company send prepay label buy new mat take old mat ship facility label send back tip possible biodegradable mat way wont need worry recycle donate new mat future\n",
       "Name: text, dtype: object"
      ]
     },
     "execution_count": 63,
     "metadata": {},
     "output_type": "execute_result"
    }
   ],
   "source": [
    "df['text'].loc[(df['subreddit']=='yoga')&(df['text'].str.contains('pain'))].head(20)"
   ]
  },
  {
   "cell_type": "code",
   "execution_count": 64,
   "id": "fd068b60",
   "metadata": {
    "scrolled": true
   },
   "outputs": [
    {
     "data": {
      "text/plain": [
       "992                                                                                                                                                                                                                                                                                                                                                                                                                                                                                                                                                                                                                                                                                                                                                                                                                                                                                                                                                                                                                                                                                                                                                                                                                                                                                                                                                                                                                                                                                                                                                                                                                                                                                                                                                                                                                                                                                       question start interest start look strenh condition well relieve stress ptsd issue ibs recommend far tip program instructor trust probably follow youtube video reference thank\n",
       "1005    word warn forward fold mod please feel free remove want share experience warn sub 2 year ago say fail heed warn pay 152 year ago comment pretty innocuous comment praise forward fold say something along line good actually crack back gravity simply hang forward another commenter agree oh yes feel good reach point one commenter say careful thats guarantee way slip disk lower back arent careful slip disc lold confidence uninjured 2829 year old long story short definitely injure back change lot mobility progress make almost go back beginner form pose lot bend knee support block ignore sign injury keep press finally educate anatomy first always tight lower back periodic lower back pain multiple car accident always think bridge backbend pose detrimental sort avoid didnt push hard way saw back arents suppose curve way pressure good spine liberal art degree must know much osteology instead focus forward fold always think good form stretch leg hamstring glut rather stretch back start really flexible way lower lower grind start feel sweet release crack back foward fold gravity become hook feel start feel warm tenderness around lower back think relieve crack fold love feel much frequently fold forward felt relieve tender feel seem increase warmth start pinch eventually turn pain sear hot pinch pain specific location point pain present time really start way day day life continue forward fold felt bring relieve fundamental misunderstand spine work eventually go dr google ton research video original commenter basically hit nail head able home adjustment essentially bend backward arm sofa dangerous cause injury please careful omg sweet relief intense back bend immediate overwhelm back pain go away immediately difference back mobility much twist bend forward backward pretty tight afraid push feel twinge bend pick something grind bend support bend knee add mindful back bend exercise practice help lot anyway thats warn thank let share experience good luck happy new year\n",
       "1008                                                                                                                                                                                                                                                                                                                                                                                                                                                                                                                                                                                                                                                                                                                                                                                                                                                                                                                                                                                                                                                                                                                                                                                                                                                                                                                                                                                                                                                                                                                                                                                                                                                                                                                                                                                                                                           iso resource area close studio rt pandemic look book website suggestion expand practice ill practice home dog app okay pretty basic watch youtube video example look want xyz practice stretch pose sequence thank advance\n",
       "1010                                                                                                                                                                                                                                                                                                                                                                                                                                                                                                                                                                                                                                                                                                                                                                                                                                                                                                                                                                                                                                                                                                                                                                                                                                                                                                                                                                                                           downward dog beginner pose really love practice regularly every beginner video always start simple pose find difficult power ten minute break downward dog every pose variation downward dog life know expect beginner able jump pose first day flexibility back make pose strenh flexibility shoulder pose absolutely flexibility calve hamstring pose plank butt slightly air hold 20 second think see beginner even come close anything two thing 1 instructor take downward dog beginner class make foundational pose every pose slowly work 2 modification invariably class start downward dog nobody class except instructor sign frustrate beginner\n",
       "1011                                                                                                                                                                                                                                                                                                                                                                                                                                                                                                                                                                                                                                                                                                                                                                                                                                                                                                                                                                                                                                                                                                                                                                                                                                                                                                                                                                                                                                                                                                                                                                                                                                                                                                                                                                      beginner hello everyone hope right place post marathon runner recovery try incorporate video daily feel amaze stretch body build strenh usually pose body shake haha fortunately girlfriend buy kit amazon mat block etc anyone specific youtube video program follow along one male btw matter\n",
       "1029                                                                                                                                                                                                                                                                                                                                                                                                                                                                                                                                                                                                                                                                                                                                                                                                                                                                                                                                                                                                                                                                                                                                                                                                                                                                                                                                                                                                                                                                                                                                                                                                                                                                                                                                                                                                   nye online event ring new year practice answer journal prompt past nyes see progress life help id join live class dec 31st go new year follow outdated youtube video nye 2021 know online nye event go find eventbrite sure vibe go timezone est btw thank advance\n",
       "1030                                                                                                                                                                                                                                                                                                                                                                                                                                                                                                                                                                                                                                                                                                                                                                                                                                                                                                                                                                                                                                                                                                                                                                                                                                                                                                                                                                                                                                                                                                                                                                                                                                                                                                                                                                                                                                                                                                                                beginner 0 experience hey want mental health benefit 0 experience guy recommend join studio learn good watch youtube video home thank\n",
       "1038                                                                                                                                                                                                                                                                                                                                                                                                                                                                                                                                                                                                                                                                                                                                                                                                                                                                                                                                                                                                                                                                                                                                                                                                                                                                                                                                                                                                                                                                                                 beginner hip program hi lift weight general strenhhypertrophy 4 day week month ago depression hit hard time go completely sedentary change today lift start practice leave hip really hurt hip always alignment one higher start hurt think bite posteriorlytilted bed need replace noticeable dip mattress hip tend think combination shit bed go sedentary turn hip fuckey lose insurance first afford chiropractic treatment go parttime work hop someday nurse school plan anyone recommend hipheavy introductory program maybe quick youtube video link thx ily\n",
       "1044                                                                                                                                                                                                                                                                                                                                                                                                                                                                                                                                                                                                                                                                                                                                                                                                                                                                                                                                                                                                                                                                                                                                                                                                                                                                                                                                                                                                                                                                                                                                                                                                                                                                                    numb finger toe army force chiropractor office several year doesnt work year combat service deal numb finger toe regularly bed obese approximately 115 body fat accord latest inbody scan lift weight 6 day week eat clean seem alleviate numbness tingle try video honestly love make feel sort video series recommend help back shoulder assume thats numbness fingerstoes come\n",
       "1049                                                                                                                                                                                                                                                                                                                                                                                                                                                                                                                                                                                                                                                                                                                                                                                                                                                                                                                                                                                                                                                                                                                                                                                                                                                                                                                                                                                                                                                                                                                                                                                                                                                                                                                                                                                                                                                                                                  hip prosthesis please someone recommend video routine doesnt put hip risk dislocation hip replace 2 year ago via anterior understand avoid post cobra thank advance\n",
       "1051                                                                                                                                                                                                                                                                                                                                                                                                                                                                                                                                                                                                                                                                                                                                                                                                                                                                                                                                                                                                                                                                                                                                                                                                                                                                                                                                                                                                                                                                                                                                                                                                                                                                                                                                                                                                                                                                                                                                                                                                                             adriene applicable man follow male video\n",
       "1052                                                                                                                                                                                                                                                                                                                                                                                                                                                                                                                                                                                                                                                                                                                                                                                                                                                                                                                                                                                                                                                                                                                                                                                                                                                                                                                                                                                                                                                                                                                                                                                                                                                                                                                                                                                           even beginner hello friend weightlift year make incredibly tight lower body back even beginner pose example put hand foot general struggle anything require lower body flexibility make kind demotivated really love effect far anyone tip ultrabeginner video great thank\n",
       "1061                                                                                                                                                                                                                                                                                                                                                                                                                                                                                                                                                                                                                                                                                                                                                                                                                                                                                                                                                                                                                                                                                                                                                                                                                                                                                                                                                                                                                                                                                                                                                                                                                                                                                                                     transition appsvideos practice year intermediate class downdog quite comfortably enjoy lot adrienne class recently try music find much enjoyable fundamental move kind bite lose try think move next take zen place workout scenario isnt want look want try without guidance sure best way tackle id appreciate advice many thank happy holiday\n",
       "1066                                                                                                                                                                                                                                                                                                                                                                                                                                                                                                                                                                                                                                                                                                                                                                                                                                                                                                                                                                                                                                                                                                                                                                                                                                                                                                                                                                                                                                                                                                                                                               help need testimonial change mind body 36m thats recently interest consistently weight train 15 year compete anything stay strong healthy last year half body feel fall apart work job require lot physical labor top try stay consistent lift 5 time week body hurt everyday shoulder impingement constant knee pain foot pain back pain stress body feel ball tangle wire hear lot people talk help stress wonder mobility strenh idea start take class look youtube video anyone give advice please\n",
       "1081                                                                                                                                                                                                                                                                                                                                                                                                                                                                                                                                                                                                                                                                                                                                                                                                                                                                                                                                                                                                                                                                                                                                                                                                                                                                                                                                                                                                                                                                                                                                                                                                                                                                                                              emotional crown chakra sequence go adrienes light series find feel good membership time past couple time go notice thing video emotional last one crown chakra sequence today feel melancholy want cry last time cry afterwards weirdly pleasant release something know cry emotional chakra work normal wonder something specific pertain crown chakra\n",
       "1086                                                                                                                                                                                                                                                                                                                                                                                                                                                                                                                                                                                                                                                                                                                                                                                                                                                                                                                                                                                                                                                                                                                                                                                                                                                                                                                                                                                                                                                                                                                                                                                                                                                                                                                                                                                                                                                                                                                                                               start start hey guy come across nice video may youtube let know playlist video suggestion help journey\n",
       "1097                                                                                                                                                                                                                                                                                                                                                                                                                                                                                                                                                                                                                                                                                                                                                                                                                                                                                                                                                                                                                                                                                                                                                                                                                                                                                                                                                                                                                                                                                                                                                                                                                                                              nsfw please respectful consider question book tutorial video creative excite sexual position advance yogi 15 year amp comfortable advance pose raise conservatively mindset conservative come bedroom time always end position normal people know capable much realize responsibility bring excitement bedroom men normal guy see think much fun bed normal bore person bed aware book teach kind thing\n",
       "1107                                                                                                                                                                                                                                                                                                                                                                                                                                                                                                                                                                                                                                                                                                                                                                                                                                                                                                                                                                                                                                                                                                                                                             currently run strenh train add reach goal tldr current schedule run everyday add strenh workout mon wed fri add 4560min session tues thurs sit help reach goal increase flexibility body correction blood circulation active younger settle quite bite become sedentary always avid runner still continue run 46 mile day somewhat recently start incorporate strenh train notice flexibility aint use develop terrible dowager hump due software engineer lose muscle difficulty maintain good posture hop add day strenh train help flexibility help correct dowager hump increase blood flow body recently download dog app try first 45 session lot fun actual question worth three 4560min session week give result time add shorter session everyday use dog app decent way go inperson class better instruction form type bloke post video form online want make sure form correct prevent injury\n",
       "1123                                                                                                                                                                                                                                                                                                                                                                                                                                                                                                                                                                                                                                                                                                                                                                                                                                                                                                                                                                                                                                                                                                                                                                                                                                                                                                                                                                                                                                                                                                                                                                                                                                                                                                                                                                                                                                                              flow w downward dog forward fold anyone point online videosroutines flow avoid position pt say need avoid due bulge disc weightlift id prefer flow something yin possible several routine variety thank\n",
       "1149                                                                                                                                                                                                                                                                                                                                                                                                                                                                                                                                                                                                                                                                                                                                                                                                                                                                                                                                                                                                                                                                                                                                                                                                                                                                                                                                                                                                                                                                                                                                                                                                                                                                                                                                                                                                                                                                                                                  start practise use video apps find stressful follow try look next pose know people qill say right way idk really frustrate please need advice start\n",
       "Name: text, dtype: object"
      ]
     },
     "execution_count": 64,
     "metadata": {},
     "output_type": "execute_result"
    }
   ],
   "source": [
    "df['text'].loc[(df['subreddit']=='yoga')&(df['text'].str.contains('video'))].head(20)"
   ]
  },
  {
   "cell_type": "markdown",
   "id": "a8230d63",
   "metadata": {},
   "source": [
    "For r/yoga, top predictors also include words like 'pain' and most arose from the context of incorrect yoga posture during self practice. This is another hit point we can target by having consults on correct yoga poses and having additional co-instructors for in-person classes to correct mistakes.\n",
    "\n",
    "Yoga enthusiasts also like to reference yoga videos and it would be helpful if we could also offer recordings of live sessions."
   ]
  },
  {
   "cell_type": "code",
   "execution_count": 28,
   "id": "92130997",
   "metadata": {},
   "outputs": [],
   "source": [
    "top_yoga_pred = top_yoga['word'].head(30).tolist()\n",
    "top_Meditation_pred = top_Meditation['word'].head(30).tolist()\n",
    "\n",
    "yoga_multiset = collections.Counter(top_yoga_pred)\n",
    "Meditation_multiset = collections.Counter(top_Meditation_pred)\n",
    "\n",
    "overlap = list((yoga_multiset & Meditation_multiset).elements())\n",
    "yoga_remainder = list((yoga_multiset - Meditation_multiset).elements())\n",
    "Meditation_remainder = list((Meditation_multiset - yoga_multiset).elements())"
   ]
  },
  {
   "cell_type": "code",
   "execution_count": 29,
   "id": "2d697a51",
   "metadata": {},
   "outputs": [
    {
     "data": {
      "image/png": "[encoded data removed]",
      "text/plain": [
       "<Figure size 720x720 with 1 Axes>"
      ]
     },
     "metadata": {},
     "output_type": "display_data"
    }
   ],
   "source": [
    "# setup the figure\n",
    "fig, ax = plt.subplots(figsize = (10,10))\n",
    "ax.set_title('Top 30 Predictors for r/yoga and r/Meditation', fontsize=20)\n",
    "# make the venn diagram\n",
    "v = venn2([set(top_yoga['word'].head(30)), set(top_Meditation['word'].head(30))],\n",
    "set_labels=['Top r/yoga predictors', 'Top r/Meditation predictors'])\n",
    "# adjust labels from counts to names\n",
    "v.get_label_by_id('10').set_text('\\n'.join(yoga_remainder))\n",
    "v.get_label_by_id('01').set_text('\\n'.join(Meditation_remainder))\n",
    "v.get_label_by_id('11').set_text('\\n'.join(overlap))\n",
    "# add circle outlines\n",
    "c = venn2_circles([set(top_yoga['word'].head(30)), set(top_Meditation['word'].head(30))],\n",
    "                  linestyle='solid')"
   ]
  },
  {
   "cell_type": "markdown",
   "id": "f6c16604",
   "metadata": {},
   "source": [
    "These keywords would be useful to identify the needs and wants of yoga enthusiasts who have more focus on the yoga poses, teachers & classes and exercise equipment like mats. Perhaps the marketing campaign could consider giving free mats for first-time subscribers. There is also higher emphasis on the body and yoga as an active form of meditation could be another keyword to tailor ads.\n",
    "\n",
    "The common predictors would require more thought and investigation for context as the words are general and neutral. "
   ]
  },
  {
   "cell_type": "markdown",
   "id": "936922f0",
   "metadata": {},
   "source": [
    "## Top Predicted Posts"
   ]
  },
  {
   "cell_type": "code",
   "execution_count": 30,
   "id": "c56aa09c",
   "metadata": {},
   "outputs": [],
   "source": [
    "predictions = pd.DataFrame(cv_nb.predict_proba(X))\n",
    "predictions['text'] = df['text']"
   ]
  },
  {
   "cell_type": "code",
   "execution_count": 31,
   "id": "c849df43",
   "metadata": {},
   "outputs": [],
   "source": [
    "predictions.columns = ['Meditation', 'yoga', 'text']"
   ]
  },
  {
   "cell_type": "code",
   "execution_count": 33,
   "id": "9045fe06",
   "metadata": {},
   "outputs": [
    {
     "data": {
      "text/html": [
       "<div>\n",
       "<style scoped>\n",
       "    .dataframe tbody tr th:only-of-type {\n",
       "        vertical-align: middle;\n",
       "    }\n",
       "\n",
       "    .dataframe tbody tr th {\n",
       "        vertical-align: top;\n",
       "    }\n",
       "\n",
       "    .dataframe thead th {\n",
       "        text-align: right;\n",
       "    }\n",
       "</style>\n",
       "<table border=\"1\" class=\"dataframe\">\n",
       "  <thead>\n",
       "    <tr style=\"text-align: right;\">\n",
       "      <th></th>\n",
       "      <th>Meditation</th>\n",
       "      <th>yoga</th>\n",
       "      <th>text</th>\n",
       "    </tr>\n",
       "  </thead>\n",
       "  <tbody>\n",
       "    <tr>\n",
       "      <th>1340</th>\n",
       "      <td>2.242943e-15</td>\n",
       "      <td>1.0</td>\n",
       "      <td>happy baby pose sacrum hi month always struggl...</td>\n",
       "    </tr>\n",
       "    <tr>\n",
       "      <th>1137</th>\n",
       "      <td>3.046878e-17</td>\n",
       "      <td>1.0</td>\n",
       "      <td>need reasonably price mat high level pad curre...</td>\n",
       "    </tr>\n",
       "    <tr>\n",
       "      <th>1045</th>\n",
       "      <td>7.861738e-15</td>\n",
       "      <td>1.0</td>\n",
       "      <td>byoga strong mat byoga cork mat think choose n...</td>\n",
       "    </tr>\n",
       "    <tr>\n",
       "      <th>1201</th>\n",
       "      <td>4.371569e-15</td>\n",
       "      <td>1.0</td>\n",
       "      <td>weight train go regular practice question nurs...</td>\n",
       "    </tr>\n",
       "    <tr>\n",
       "      <th>1147</th>\n",
       "      <td>1.256165e-90</td>\n",
       "      <td>1.0</td>\n",
       "      <td>thought make flow base upon look accomplish gy...</td>\n",
       "    </tr>\n",
       "    <tr>\n",
       "      <th>1300</th>\n",
       "      <td>7.392628e-35</td>\n",
       "      <td>1.0</td>\n",
       "      <td>anyone experience use psorite help practice al...</td>\n",
       "    </tr>\n",
       "    <tr>\n",
       "      <th>1357</th>\n",
       "      <td>1.459994e-14</td>\n",
       "      <td>1.0</td>\n",
       "      <td>general advice practice please hello mostly 8 ...</td>\n",
       "    </tr>\n",
       "    <tr>\n",
       "      <th>1233</th>\n",
       "      <td>5.635450e-20</td>\n",
       "      <td>1.0</td>\n",
       "      <td>studio atlanta ga area regularly inversion cla...</td>\n",
       "    </tr>\n",
       "    <tr>\n",
       "      <th>1301</th>\n",
       "      <td>6.144193e-23</td>\n",
       "      <td>1.0</td>\n",
       "      <td>without mat recently read origin mat come acro...</td>\n",
       "    </tr>\n",
       "    <tr>\n",
       "      <th>1139</th>\n",
       "      <td>1.122747e-25</td>\n",
       "      <td>1.0</td>\n",
       "      <td>help reasonable schedule power hello first pos...</td>\n",
       "    </tr>\n",
       "    <tr>\n",
       "      <th>1585</th>\n",
       "      <td>1.875209e-15</td>\n",
       "      <td>1.0</td>\n",
       "      <td>back pain worse better wonder happen anyone fi...</td>\n",
       "    </tr>\n",
       "    <tr>\n",
       "      <th>1472</th>\n",
       "      <td>2.016045e-34</td>\n",
       "      <td>1.0</td>\n",
       "      <td>recline twist keep hipskneesankles align year ...</td>\n",
       "    </tr>\n",
       "    <tr>\n",
       "      <th>1295</th>\n",
       "      <td>5.306534e-17</td>\n",
       "      <td>1.0</td>\n",
       "      <td>anyone experience yogi bare mat specifically s...</td>\n",
       "    </tr>\n",
       "    <tr>\n",
       "      <th>1356</th>\n",
       "      <td>3.924449e-15</td>\n",
       "      <td>1.0</td>\n",
       "      <td>go create practice practice onandoff 10 year s...</td>\n",
       "    </tr>\n",
       "    <tr>\n",
       "      <th>1581</th>\n",
       "      <td>2.838244e-49</td>\n",
       "      <td>1.0</td>\n",
       "      <td>online pigeon pose every class old studio shut...</td>\n",
       "    </tr>\n",
       "  </tbody>\n",
       "</table>\n",
       "</div>"
      ],
      "text/plain": [
       "        Meditation  yoga                                               text\n",
       "1340  2.242943e-15   1.0  happy baby pose sacrum hi month always struggl...\n",
       "1137  3.046878e-17   1.0  need reasonably price mat high level pad curre...\n",
       "1045  7.861738e-15   1.0  byoga strong mat byoga cork mat think choose n...\n",
       "1201  4.371569e-15   1.0  weight train go regular practice question nurs...\n",
       "1147  1.256165e-90   1.0  thought make flow base upon look accomplish gy...\n",
       "1300  7.392628e-35   1.0  anyone experience use psorite help practice al...\n",
       "1357  1.459994e-14   1.0  general advice practice please hello mostly 8 ...\n",
       "1233  5.635450e-20   1.0  studio atlanta ga area regularly inversion cla...\n",
       "1301  6.144193e-23   1.0  without mat recently read origin mat come acro...\n",
       "1139  1.122747e-25   1.0  help reasonable schedule power hello first pos...\n",
       "1585  1.875209e-15   1.0  back pain worse better wonder happen anyone fi...\n",
       "1472  2.016045e-34   1.0  recline twist keep hipskneesankles align year ...\n",
       "1295  5.306534e-17   1.0  anyone experience yogi bare mat specifically s...\n",
       "1356  3.924449e-15   1.0  go create practice practice onandoff 10 year s...\n",
       "1581  2.838244e-49   1.0  online pigeon pose every class old studio shut..."
      ]
     },
     "execution_count": 33,
     "metadata": {},
     "output_type": "execute_result"
    }
   ],
   "source": [
    "# Top predicted r/yoga posts\n",
    "predictions.sort_values('yoga', ascending=False)[:15]"
   ]
  },
  {
   "cell_type": "markdown",
   "id": "1cac4255",
   "metadata": {},
   "source": [
    "The model has a good grasp on the typical keywords for r/yoga as seen in the frequent mention of poses and mats."
   ]
  },
  {
   "cell_type": "code",
   "execution_count": 32,
   "id": "8e92f861",
   "metadata": {},
   "outputs": [
    {
     "data": {
      "text/html": [
       "<div>\n",
       "<style scoped>\n",
       "    .dataframe tbody tr th:only-of-type {\n",
       "        vertical-align: middle;\n",
       "    }\n",
       "\n",
       "    .dataframe tbody tr th {\n",
       "        vertical-align: top;\n",
       "    }\n",
       "\n",
       "    .dataframe thead th {\n",
       "        text-align: right;\n",
       "    }\n",
       "</style>\n",
       "<table border=\"1\" class=\"dataframe\">\n",
       "  <thead>\n",
       "    <tr style=\"text-align: right;\">\n",
       "      <th></th>\n",
       "      <th>Meditation</th>\n",
       "      <th>yoga</th>\n",
       "      <th>text</th>\n",
       "    </tr>\n",
       "  </thead>\n",
       "  <tbody>\n",
       "    <tr>\n",
       "      <th>0</th>\n",
       "      <td>1.0</td>\n",
       "      <td>7.423211e-46</td>\n",
       "      <td>massive announcement concern future human spec...</td>\n",
       "    </tr>\n",
       "    <tr>\n",
       "      <th>447</th>\n",
       "      <td>1.0</td>\n",
       "      <td>1.693686e-16</td>\n",
       "      <td>best app channel visualisation techniquesimpro...</td>\n",
       "    </tr>\n",
       "    <tr>\n",
       "      <th>360</th>\n",
       "      <td>1.0</td>\n",
       "      <td>9.722354e-82</td>\n",
       "      <td>bhagavan ramana maharshi change life gary webe...</td>\n",
       "    </tr>\n",
       "    <tr>\n",
       "      <th>864</th>\n",
       "      <td>1.0</td>\n",
       "      <td>3.876753e-20</td>\n",
       "      <td>mean end share learn study practice apology lo...</td>\n",
       "    </tr>\n",
       "    <tr>\n",
       "      <th>870</th>\n",
       "      <td>1.0</td>\n",
       "      <td>8.856763e-25</td>\n",
       "      <td>human conscious last year december begin truly...</td>\n",
       "    </tr>\n",
       "    <tr>\n",
       "      <th>872</th>\n",
       "      <td>1.0</td>\n",
       "      <td>1.157184e-15</td>\n",
       "      <td>seem bite contradictory goal pay attention bre...</td>\n",
       "    </tr>\n",
       "    <tr>\n",
       "      <th>344</th>\n",
       "      <td>1.0</td>\n",
       "      <td>2.043237e-17</td>\n",
       "      <td>experience side effect mindfulness latley caut...</td>\n",
       "    </tr>\n",
       "    <tr>\n",
       "      <th>339</th>\n",
       "      <td>1.0</td>\n",
       "      <td>3.777871e-40</td>\n",
       "      <td>extend outside sit practice dharana shift focu...</td>\n",
       "    </tr>\n",
       "    <tr>\n",
       "      <th>335</th>\n",
       "      <td>1.0</td>\n",
       "      <td>1.438903e-73</td>\n",
       "      <td>experience 90 day consistent postbreakup never...</td>\n",
       "    </tr>\n",
       "    <tr>\n",
       "      <th>330</th>\n",
       "      <td>1.0</td>\n",
       "      <td>8.973959e-18</td>\n",
       "      <td>stop try control thought month habit daily bas...</td>\n",
       "    </tr>\n",
       "    <tr>\n",
       "      <th>329</th>\n",
       "      <td>1.0</td>\n",
       "      <td>1.716358e-22</td>\n",
       "      <td>heartbeat one thing find great deal awareness ...</td>\n",
       "    </tr>\n",
       "    <tr>\n",
       "      <th>326</th>\n",
       "      <td>1.0</td>\n",
       "      <td>5.724771e-16</td>\n",
       "      <td>breath sensationsenergies hello everyone try l...</td>\n",
       "    </tr>\n",
       "    <tr>\n",
       "      <th>323</th>\n",
       "      <td>1.0</td>\n",
       "      <td>9.252748e-25</td>\n",
       "      <td>one begin process accept anxiety instead hide ...</td>\n",
       "    </tr>\n",
       "    <tr>\n",
       "      <th>317</th>\n",
       "      <td>1.0</td>\n",
       "      <td>3.818850e-213</td>\n",
       "      <td>conscious physic gravity 191221 conscious phys...</td>\n",
       "    </tr>\n",
       "    <tr>\n",
       "      <th>314</th>\n",
       "      <td>1.0</td>\n",
       "      <td>4.263670e-54</td>\n",
       "      <td>become scar year experience alter consciousnes...</td>\n",
       "    </tr>\n",
       "  </tbody>\n",
       "</table>\n",
       "</div>"
      ],
      "text/plain": [
       "     Meditation           yoga  \\\n",
       "0           1.0   7.423211e-46   \n",
       "447         1.0   1.693686e-16   \n",
       "360         1.0   9.722354e-82   \n",
       "864         1.0   3.876753e-20   \n",
       "870         1.0   8.856763e-25   \n",
       "872         1.0   1.157184e-15   \n",
       "344         1.0   2.043237e-17   \n",
       "339         1.0   3.777871e-40   \n",
       "335         1.0   1.438903e-73   \n",
       "330         1.0   8.973959e-18   \n",
       "329         1.0   1.716358e-22   \n",
       "326         1.0   5.724771e-16   \n",
       "323         1.0   9.252748e-25   \n",
       "317         1.0  3.818850e-213   \n",
       "314         1.0   4.263670e-54   \n",
       "\n",
       "                                                  text  \n",
       "0    massive announcement concern future human spec...  \n",
       "447  best app channel visualisation techniquesimpro...  \n",
       "360  bhagavan ramana maharshi change life gary webe...  \n",
       "864  mean end share learn study practice apology lo...  \n",
       "870  human conscious last year december begin truly...  \n",
       "872  seem bite contradictory goal pay attention bre...  \n",
       "344  experience side effect mindfulness latley caut...  \n",
       "339  extend outside sit practice dharana shift focu...  \n",
       "335  experience 90 day consistent postbreakup never...  \n",
       "330  stop try control thought month habit daily bas...  \n",
       "329  heartbeat one thing find great deal awareness ...  \n",
       "326  breath sensationsenergies hello everyone try l...  \n",
       "323  one begin process accept anxiety instead hide ...  \n",
       "317  conscious physic gravity 191221 conscious phys...  \n",
       "314  become scar year experience alter consciousnes...  "
      ]
     },
     "execution_count": 32,
     "metadata": {},
     "output_type": "execute_result"
    }
   ],
   "source": [
    "# Top predicted r/Meditation posts\n",
    "predictions.sort_values('Meditation', ascending=False)[:15]"
   ]
  },
  {
   "cell_type": "markdown",
   "id": "2b302d8a",
   "metadata": {},
   "source": [
    "For r/Meditation, the focus is more on experiences and terms related to the mind (e.g. 'conscious)."
   ]
  },
  {
   "cell_type": "markdown",
   "id": "cef2ebe4",
   "metadata": {},
   "source": [
    "## Top Words"
   ]
  },
  {
   "cell_type": "code",
   "execution_count": 34,
   "id": "95c20203",
   "metadata": {},
   "outputs": [
    {
     "data": {
      "text/plain": [
       "array([31., 11.,  3., ...,  7.,  9.,  2.])"
      ]
     },
     "execution_count": 34,
     "metadata": {},
     "output_type": "execute_result"
    }
   ],
   "source": [
    "# number of times each token appears across all r/Meditation submissions\n",
    "meditation_token_count = cv_nb.best_estimator_.steps[1][1].feature_count_[0, :]\n",
    "meditation_token_count"
   ]
  },
  {
   "cell_type": "code",
   "execution_count": 35,
   "id": "097a4598",
   "metadata": {},
   "outputs": [
    {
     "data": {
      "text/plain": [
       "array([15.,  7.,  0., ...,  4.,  1.,  8.])"
      ]
     },
     "execution_count": 35,
     "metadata": {},
     "output_type": "execute_result"
    }
   ],
   "source": [
    "# number of times each token appears across all r/yoga submissions\n",
    "yoga_token_count = cv_nb.best_estimator_.steps[1][1].feature_count_[1, :]\n",
    "yoga_token_count"
   ]
  },
  {
   "cell_type": "code",
   "execution_count": 36,
   "id": "268427db",
   "metadata": {},
   "outputs": [
    {
     "data": {
      "text/html": [
       "<div>\n",
       "<style scoped>\n",
       "    .dataframe tbody tr th:only-of-type {\n",
       "        vertical-align: middle;\n",
       "    }\n",
       "\n",
       "    .dataframe tbody tr th {\n",
       "        vertical-align: top;\n",
       "    }\n",
       "\n",
       "    .dataframe thead th {\n",
       "        text-align: right;\n",
       "    }\n",
       "</style>\n",
       "<table border=\"1\" class=\"dataframe\">\n",
       "  <thead>\n",
       "    <tr style=\"text-align: right;\">\n",
       "      <th></th>\n",
       "      <th>token</th>\n",
       "      <th>Meditation</th>\n",
       "      <th>yoga</th>\n",
       "    </tr>\n",
       "  </thead>\n",
       "  <tbody>\n",
       "    <tr>\n",
       "      <th>0</th>\n",
       "      <td>10</td>\n",
       "      <td>31.0</td>\n",
       "      <td>15.0</td>\n",
       "    </tr>\n",
       "    <tr>\n",
       "      <th>1</th>\n",
       "      <td>100</td>\n",
       "      <td>11.0</td>\n",
       "      <td>7.0</td>\n",
       "    </tr>\n",
       "    <tr>\n",
       "      <th>2</th>\n",
       "      <td>1000</td>\n",
       "      <td>3.0</td>\n",
       "      <td>0.0</td>\n",
       "    </tr>\n",
       "    <tr>\n",
       "      <th>3</th>\n",
       "      <td>1015</td>\n",
       "      <td>3.0</td>\n",
       "      <td>2.0</td>\n",
       "    </tr>\n",
       "    <tr>\n",
       "      <th>4</th>\n",
       "      <td>1020</td>\n",
       "      <td>2.0</td>\n",
       "      <td>0.0</td>\n",
       "    </tr>\n",
       "  </tbody>\n",
       "</table>\n",
       "</div>"
      ],
      "text/plain": [
       "  token  Meditation  yoga\n",
       "0    10        31.0  15.0\n",
       "1   100        11.0   7.0\n",
       "2  1000         3.0   0.0\n",
       "3  1015         3.0   2.0\n",
       "4  1020         2.0   0.0"
      ]
     },
     "execution_count": 36,
     "metadata": {},
     "output_type": "execute_result"
    }
   ],
   "source": [
    "X_train_tokens = cv_nb.best_estimator_.steps[0][1].get_feature_names()\n",
    "tokens = pd.DataFrame({'token':X_train_tokens, 'Meditation':meditation_token_count, 'yoga':yoga_token_count})\n",
    "tokens.head()"
   ]
  },
  {
   "cell_type": "code",
   "execution_count": 37,
   "id": "48bd1078",
   "metadata": {},
   "outputs": [],
   "source": [
    "# add 1 to Meditation and yoga counts to avoid dividing by 0\n",
    "tokens['Meditation'] = tokens.Meditation + 1\n",
    "tokens['yoga'] = tokens.yoga + 1\n",
    "\n",
    "# convert the ham and spam counts into frequencies\n",
    "tokens['Meditation'] = tokens.Meditation /  cv_nb.best_estimator_.steps[1][1].class_count_[0]\n",
    "tokens['yoga'] = tokens.yoga /  cv_nb.best_estimator_.steps[1][1].class_count_[1]\n",
    "\n",
    "# calculate the ratio of spam-to-ham for each token\n",
    "tokens['yoga_ratio'] = tokens.yoga / tokens.Meditation"
   ]
  },
  {
   "cell_type": "code",
   "execution_count": 51,
   "id": "00052405",
   "metadata": {},
   "outputs": [
    {
     "data": {
      "text/html": [
       "<div>\n",
       "<style scoped>\n",
       "    .dataframe tbody tr th:only-of-type {\n",
       "        vertical-align: middle;\n",
       "    }\n",
       "\n",
       "    .dataframe tbody tr th {\n",
       "        vertical-align: top;\n",
       "    }\n",
       "\n",
       "    .dataframe thead th {\n",
       "        text-align: right;\n",
       "    }\n",
       "</style>\n",
       "<table border=\"1\" class=\"dataframe\">\n",
       "  <thead>\n",
       "    <tr style=\"text-align: right;\">\n",
       "      <th></th>\n",
       "      <th>token</th>\n",
       "      <th>Meditation</th>\n",
       "      <th>yoga</th>\n",
       "      <th>yoga_ratio</th>\n",
       "    </tr>\n",
       "  </thead>\n",
       "  <tbody>\n",
       "    <tr>\n",
       "      <th>1621</th>\n",
       "      <td>mat</td>\n",
       "      <td>0.001449</td>\n",
       "      <td>0.355967</td>\n",
       "      <td>245.617284</td>\n",
       "    </tr>\n",
       "    <tr>\n",
       "      <th>790</th>\n",
       "      <td>dog</td>\n",
       "      <td>0.001449</td>\n",
       "      <td>0.125514</td>\n",
       "      <td>86.604938</td>\n",
       "    </tr>\n",
       "    <tr>\n",
       "      <th>512</th>\n",
       "      <td>class</td>\n",
       "      <td>0.004348</td>\n",
       "      <td>0.376543</td>\n",
       "      <td>86.604938</td>\n",
       "    </tr>\n",
       "    <tr>\n",
       "      <th>1372</th>\n",
       "      <td>instructor</td>\n",
       "      <td>0.001449</td>\n",
       "      <td>0.109053</td>\n",
       "      <td>75.246914</td>\n",
       "    </tr>\n",
       "    <tr>\n",
       "      <th>1985</th>\n",
       "      <td>pose</td>\n",
       "      <td>0.007246</td>\n",
       "      <td>0.467078</td>\n",
       "      <td>64.456790</td>\n",
       "    </tr>\n",
       "    <tr>\n",
       "      <th>2534</th>\n",
       "      <td>studio</td>\n",
       "      <td>0.002899</td>\n",
       "      <td>0.164609</td>\n",
       "      <td>56.790123</td>\n",
       "    </tr>\n",
       "    <tr>\n",
       "      <th>2234</th>\n",
       "      <td>roller</td>\n",
       "      <td>0.001449</td>\n",
       "      <td>0.065844</td>\n",
       "      <td>45.432099</td>\n",
       "    </tr>\n",
       "    <tr>\n",
       "      <th>2983</th>\n",
       "      <td>yin</td>\n",
       "      <td>0.001449</td>\n",
       "      <td>0.061728</td>\n",
       "      <td>42.592593</td>\n",
       "    </tr>\n",
       "    <tr>\n",
       "      <th>1159</th>\n",
       "      <td>hamstring</td>\n",
       "      <td>0.001449</td>\n",
       "      <td>0.059671</td>\n",
       "      <td>41.172840</td>\n",
       "    </tr>\n",
       "    <tr>\n",
       "      <th>1033</th>\n",
       "      <td>foam</td>\n",
       "      <td>0.001449</td>\n",
       "      <td>0.057613</td>\n",
       "      <td>39.753086</td>\n",
       "    </tr>\n",
       "    <tr>\n",
       "      <th>1024</th>\n",
       "      <td>flexibility</td>\n",
       "      <td>0.002899</td>\n",
       "      <td>0.109053</td>\n",
       "      <td>37.623457</td>\n",
       "    </tr>\n",
       "    <tr>\n",
       "      <th>801</th>\n",
       "      <td>downward</td>\n",
       "      <td>0.001449</td>\n",
       "      <td>0.047325</td>\n",
       "      <td>32.654321</td>\n",
       "    </tr>\n",
       "    <tr>\n",
       "      <th>2861</th>\n",
       "      <td>vinyasa</td>\n",
       "      <td>0.001449</td>\n",
       "      <td>0.037037</td>\n",
       "      <td>25.555556</td>\n",
       "    </tr>\n",
       "    <tr>\n",
       "      <th>1035</th>\n",
       "      <td>fold</td>\n",
       "      <td>0.002899</td>\n",
       "      <td>0.074074</td>\n",
       "      <td>25.555556</td>\n",
       "    </tr>\n",
       "    <tr>\n",
       "      <th>1694</th>\n",
       "      <td>mobility</td>\n",
       "      <td>0.001449</td>\n",
       "      <td>0.034979</td>\n",
       "      <td>24.135802</td>\n",
       "    </tr>\n",
       "    <tr>\n",
       "      <th>233</th>\n",
       "      <td>ashtanga</td>\n",
       "      <td>0.001449</td>\n",
       "      <td>0.032922</td>\n",
       "      <td>22.716049</td>\n",
       "    </tr>\n",
       "    <tr>\n",
       "      <th>2718</th>\n",
       "      <td>towel</td>\n",
       "      <td>0.001449</td>\n",
       "      <td>0.030864</td>\n",
       "      <td>21.296296</td>\n",
       "    </tr>\n",
       "    <tr>\n",
       "      <th>1950</th>\n",
       "      <td>pigeon</td>\n",
       "      <td>0.001449</td>\n",
       "      <td>0.028807</td>\n",
       "      <td>19.876543</td>\n",
       "    </tr>\n",
       "    <tr>\n",
       "      <th>1917</th>\n",
       "      <td>pelvic</td>\n",
       "      <td>0.001449</td>\n",
       "      <td>0.026749</td>\n",
       "      <td>18.456790</td>\n",
       "    </tr>\n",
       "    <tr>\n",
       "      <th>2985</th>\n",
       "      <td>yogi</td>\n",
       "      <td>0.004348</td>\n",
       "      <td>0.080247</td>\n",
       "      <td>18.456790</td>\n",
       "    </tr>\n",
       "  </tbody>\n",
       "</table>\n",
       "</div>"
      ],
      "text/plain": [
       "            token  Meditation      yoga  yoga_ratio\n",
       "1621          mat    0.001449  0.355967  245.617284\n",
       "790           dog    0.001449  0.125514   86.604938\n",
       "512         class    0.004348  0.376543   86.604938\n",
       "1372   instructor    0.001449  0.109053   75.246914\n",
       "1985         pose    0.007246  0.467078   64.456790\n",
       "2534       studio    0.002899  0.164609   56.790123\n",
       "2234       roller    0.001449  0.065844   45.432099\n",
       "2983          yin    0.001449  0.061728   42.592593\n",
       "1159    hamstring    0.001449  0.059671   41.172840\n",
       "1033         foam    0.001449  0.057613   39.753086\n",
       "1024  flexibility    0.002899  0.109053   37.623457\n",
       "801      downward    0.001449  0.047325   32.654321\n",
       "2861      vinyasa    0.001449  0.037037   25.555556\n",
       "1035         fold    0.002899  0.074074   25.555556\n",
       "1694     mobility    0.001449  0.034979   24.135802\n",
       "233      ashtanga    0.001449  0.032922   22.716049\n",
       "2718        towel    0.001449  0.030864   21.296296\n",
       "1950       pigeon    0.001449  0.028807   19.876543\n",
       "1917       pelvic    0.001449  0.026749   18.456790\n",
       "2985         yogi    0.004348  0.080247   18.456790"
      ]
     },
     "execution_count": 51,
     "metadata": {},
     "output_type": "execute_result"
    }
   ],
   "source": [
    "tokens.sort_values('yoga_ratio', ascending=False).head(10)"
   ]
  },
  {
   "cell_type": "markdown",
   "id": "8487b7a1",
   "metadata": {},
   "source": [
    "Mat is unique trending word for r/yoga. Indeed a good mat is everything! Marketing policies should focus on mat promotions. "
   ]
  },
  {
   "cell_type": "code",
   "execution_count": 39,
   "id": "1f931ffb",
   "metadata": {},
   "outputs": [
    {
     "data": {
      "text/html": [
       "<div>\n",
       "<style scoped>\n",
       "    .dataframe tbody tr th:only-of-type {\n",
       "        vertical-align: middle;\n",
       "    }\n",
       "\n",
       "    .dataframe tbody tr th {\n",
       "        vertical-align: top;\n",
       "    }\n",
       "\n",
       "    .dataframe thead th {\n",
       "        text-align: right;\n",
       "    }\n",
       "</style>\n",
       "<table border=\"1\" class=\"dataframe\">\n",
       "  <thead>\n",
       "    <tr style=\"text-align: right;\">\n",
       "      <th></th>\n",
       "      <th>token</th>\n",
       "      <th>Meditation</th>\n",
       "      <th>yoga</th>\n",
       "      <th>yoga_ratio</th>\n",
       "    </tr>\n",
       "  </thead>\n",
       "  <tbody>\n",
       "    <tr>\n",
       "      <th>588</th>\n",
       "      <td>consciousness</td>\n",
       "      <td>0.065217</td>\n",
       "      <td>0.004115</td>\n",
       "      <td>0.063100</td>\n",
       "    </tr>\n",
       "    <tr>\n",
       "      <th>1677</th>\n",
       "      <td>mindfulness</td>\n",
       "      <td>0.107246</td>\n",
       "      <td>0.006173</td>\n",
       "      <td>0.057558</td>\n",
       "    </tr>\n",
       "    <tr>\n",
       "      <th>1106</th>\n",
       "      <td>god</td>\n",
       "      <td>0.037681</td>\n",
       "      <td>0.002058</td>\n",
       "      <td>0.054606</td>\n",
       "    </tr>\n",
       "    <tr>\n",
       "      <th>781</th>\n",
       "      <td>distraction</td>\n",
       "      <td>0.039130</td>\n",
       "      <td>0.002058</td>\n",
       "      <td>0.052583</td>\n",
       "    </tr>\n",
       "    <tr>\n",
       "      <th>103</th>\n",
       "      <td>adhd</td>\n",
       "      <td>0.039130</td>\n",
       "      <td>0.002058</td>\n",
       "      <td>0.052583</td>\n",
       "    </tr>\n",
       "    <tr>\n",
       "      <th>2313</th>\n",
       "      <td>sensation</td>\n",
       "      <td>0.078261</td>\n",
       "      <td>0.004115</td>\n",
       "      <td>0.052583</td>\n",
       "    </tr>\n",
       "    <tr>\n",
       "      <th>2756</th>\n",
       "      <td>truth</td>\n",
       "      <td>0.039130</td>\n",
       "      <td>0.002058</td>\n",
       "      <td>0.052583</td>\n",
       "    </tr>\n",
       "    <tr>\n",
       "      <th>1812</th>\n",
       "      <td>object</td>\n",
       "      <td>0.043478</td>\n",
       "      <td>0.002058</td>\n",
       "      <td>0.047325</td>\n",
       "    </tr>\n",
       "    <tr>\n",
       "      <th>1330</th>\n",
       "      <td>infinite</td>\n",
       "      <td>0.044928</td>\n",
       "      <td>0.002058</td>\n",
       "      <td>0.045798</td>\n",
       "    </tr>\n",
       "    <tr>\n",
       "      <th>842</th>\n",
       "      <td>ego</td>\n",
       "      <td>0.047826</td>\n",
       "      <td>0.002058</td>\n",
       "      <td>0.043023</td>\n",
       "    </tr>\n",
       "  </tbody>\n",
       "</table>\n",
       "</div>"
      ],
      "text/plain": [
       "              token  Meditation      yoga  yoga_ratio\n",
       "588   consciousness    0.065217  0.004115    0.063100\n",
       "1677    mindfulness    0.107246  0.006173    0.057558\n",
       "1106            god    0.037681  0.002058    0.054606\n",
       "781     distraction    0.039130  0.002058    0.052583\n",
       "103            adhd    0.039130  0.002058    0.052583\n",
       "2313      sensation    0.078261  0.004115    0.052583\n",
       "2756          truth    0.039130  0.002058    0.052583\n",
       "1812         object    0.043478  0.002058    0.047325\n",
       "1330       infinite    0.044928  0.002058    0.045798\n",
       "842             ego    0.047826  0.002058    0.043023"
      ]
     },
     "execution_count": 39,
     "metadata": {},
     "output_type": "execute_result"
    }
   ],
   "source": [
    "tokens.sort_values('yoga_ratio', ascending=False).tail(10)"
   ]
  },
  {
   "cell_type": "markdown",
   "id": "02ebc4dd",
   "metadata": {},
   "source": [
    "r/Meditation unique top tokens focus on the mental and spiritual state. It would be good to tailor ads to promote how yoga encompasses all these as well to attract meditation seekers to sign up for classes too."
   ]
  },
  {
   "cell_type": "markdown",
   "id": "c5a6deb6",
   "metadata": {},
   "source": [
    "## Final Recommendations\n",
    "3 aspects we can focus on for marketing to attract the yoga enthusiasts:\n",
    "1. Complimentary mat for new subscribers to the studio\n",
    "2. Aspect of pain and poses\n",
    "    - services to provide guidance on correct body posture for yoga poses \n",
    "    - additional co-instructor would be useful for on-site classes to guide students (not a priority if classes remain small in size)\n",
    "3. Videos \n",
    "    - video-conferencing for online consulting\n",
    "    - provide recordings of live yoga sessions as a privilege to members only\n",
    "\n",
    "The common predictors for Meditation and yoga were general and neutral. It would be difficult to work with the current findings to enhance marketing to meditation seekers to look to yoga as a potential self-care tool. \n",
    "\n",
    "## Future Enhancements\n",
    "- Modelling on a larger dataset\n",
    "    * Scrap data from ***Hot*** and ***Top*** sections of subreddit\n",
    "    * Investigate ***Comments*** sections on submissions\n",
    "- Explore different classification models\n",
    "    * E.g. SVM, Gradient Boosting, etc.\n",
    "- Update Stop Words\n",
    "    * To get more meaning keywords to drive marketing policies\n",
    "\n",
    "## Conclusion\n",
    "With the current model, we are able to identify useful keywords that gave us insights on potential marketable services and promotions to attract more members to our studio. This would be limited to yoga enthusiasts until further enhancements are done to find keywords which would help target meditation seekers."
   ]
  }
 ],
 "metadata": {
  "kernelspec": {
   "display_name": "Python 3",
   "language": "python",
   "name": "python3"
  },
  "language_info": {
   "codemirror_mode": {
    "name": "ipython",
    "version": 3
   },
   "file_extension": ".py",
   "mimetype": "text/x-python",
   "name": "python",
   "nbconvert_exporter": "python",
   "pygments_lexer": "ipython3",
   "version": "3.8.8"
  }
 },
 "nbformat": 4,
 "nbformat_minor": 5
}
